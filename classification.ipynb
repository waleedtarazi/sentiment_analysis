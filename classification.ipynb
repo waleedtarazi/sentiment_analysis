{
  "cells": [
    {
      "attachments": {},
      "cell_type": "markdown",
      "id": "46f519c8",
      "metadata": {
        "id": "46f519c8"
      },
      "source": [
        "#[محمد وليد الطرزي]"
      ]
    },
    {
      "cell_type": "markdown",
      "id": "e7efe140",
      "metadata": {
        "id": "e7efe140"
      },
      "source": [
        "Prepare libraries and data"
      ]
    },
    {
      "cell_type": "code",
      "execution_count": 1,
      "id": "add89e62",
      "metadata": {},
      "outputs": [
        {
          "name": "stdout",
          "output_type": "stream",
          "text": [
            "importing Jupyter notebook from waleed_preprocess.ipynb\n"
          ]
        }
      ],
      "source": [
        "import import_ipynb \n",
        "import json\n",
        "import waleed_preprocess as waleed\n",
        "import pandas as pd\n",
        "import sklearn as sk\n",
        "import seaborn as sns\n",
        "import tensorflow as tf\n",
        "import numpy as np\n",
        "from keras.models import Sequential\n",
        "from keras import layers\n",
        "import matplotlib.pyplot as plt\n",
        "from sklearn.linear_model import LogisticRegression\n",
        "from sklearn.metrics import accuracy_score\n",
        "from sklearn.model_selection import train_test_split\n",
        "from sklearn.model_selection import GridSearchCV\n",
        "from sklearn.feature_extraction.text import CountVectorizer,TfidfVectorizer\n",
        "from keras.layers import Flatten\n",
        "from keras.layers.convolutional import Conv1D\n",
        "from keras.layers.convolutional import MaxPooling1D\n",
        "from keras.preprocessing.text import Tokenizer\n",
        "from tensorflow.keras.preprocessing.sequence import pad_sequences\n",
        "from keras.preprocessing import sequence\n"
      ]
    },
    {
      "attachments": {},
      "cell_type": "markdown",
      "id": "23e6616b",
      "metadata": {},
      "source": [
        "قراءة وكتابة للدكشنري عشان ساعات بتتعبى الرام فاضطر اعمل ريستارت للكرنل وحاجات يعني "
      ]
    },
    {
      "cell_type": "code",
      "execution_count": 2,
      "id": "bc40a321",
      "metadata": {},
      "outputs": [],
      "source": [
        "def write_dic(dic,name):\n",
        "    json.dump(dic, open(name+\".txt\",'w'))"
      ]
    },
    {
      "cell_type": "code",
      "execution_count": 3,
      "id": "e66b3a2c",
      "metadata": {},
      "outputs": [],
      "source": [
        "def read_dic(name):\n",
        "    return json.load(open(name+\".txt\"))"
      ]
    },
    {
      "cell_type": "markdown",
      "id": "4ec48c7b",
      "metadata": {
        "id": "4ec48c7b"
      },
      "source": [
        "Prapere The Comparison Dictionary"
      ]
    },
    {
      "cell_type": "code",
      "execution_count": 4,
      "id": "0428b0f2",
      "metadata": {
        "id": "0428b0f2"
      },
      "outputs": [],
      "source": [
        "model_comparison_table = {}\n",
        "\n",
        "model_comparison_table['question_step_number'] = []\n",
        "model_comparison_table['model_name'] = []\n",
        "model_comparison_table['parameters'] = []\n",
        "model_comparison_table['preprocessing_methods'] = []\n",
        "model_comparison_table['accuracy'] = []"
      ]
    },
    {
      "cell_type": "markdown",
      "id": "3400638b",
      "metadata": {
        "id": "3400638b"
      },
      "source": [
        "# Question [1]: Load the data"
      ]
    },
    {
      "cell_type": "markdown",
      "id": "8E7xa9XLPW8t",
      "metadata": {
        "id": "8E7xa9XLPW8t"
      },
      "source": [
        "شرح ما يقوم به الكود"
      ]
    },
    {
      "cell_type": "code",
      "execution_count": 5,
      "id": "7751f8a5",
      "metadata": {},
      "outputs": [],
      "source": [
        "train_data = pd.read_csv('train.csv')\n",
        "val_data = pd.read_csv('valid.csv')\n",
        "test_data = pd.read_csv('test.csv')"
      ]
    },
    {
      "cell_type": "code",
      "execution_count": 6,
      "id": "d41a9612",
      "metadata": {
        "id": "d41a9612"
      },
      "outputs": [
        {
          "name": "stdout",
          "output_type": "stream",
          "text": [
            "shape of train(befor processing) -> 33924\n",
            "shape of validation(befor processing) -> 7269\n",
            "shape of test(befor processing) -> 7270\n"
          ]
        }
      ],
      "source": [
        "print('shape of train(befor processing) ->',train_data.shape[0])\n",
        "print('shape of validation(befor processing) ->',val_data.shape[0])\n",
        "print('shape of test(befor processing) ->',test_data.shape[0])"
      ]
    },
    {
      "attachments": {},
      "cell_type": "markdown",
      "id": "2a038648",
      "metadata": {},
      "source": [
        "delete nan and duplicated values"
      ]
    },
    {
      "cell_type": "code",
      "execution_count": 6,
      "id": "ad88cbc7",
      "metadata": {},
      "outputs": [],
      "source": [
        "train_data = waleed.delete_nan_duplicates(train_data)\n",
        "val_data = waleed.delete_nan_duplicates(val_data)\n",
        "test_data = waleed.delete_nan_duplicates(test_data)"
      ]
    },
    {
      "attachments": {},
      "cell_type": "markdown",
      "id": "803c9205",
      "metadata": {},
      "source": [
        "stander labelling for labels "
      ]
    },
    {
      "cell_type": "code",
      "execution_count": 7,
      "id": "57752d41",
      "metadata": {},
      "outputs": [],
      "source": [
        "train_data['label'] = train_data['label'].apply(lambda word: waleed.label_standrlization(word))\n",
        "val_data['label'] = val_data['label'].apply(lambda word: waleed.label_standrlization(word))\n",
        "test_data['label'] = test_data['label'].apply(lambda word: waleed.label_standrlization(word))"
      ]
    },
    {
      "attachments": {},
      "cell_type": "markdown",
      "id": "709239a9",
      "metadata": {},
      "source": [
        "recheck for nan and duplicate rows "
      ]
    },
    {
      "cell_type": "code",
      "execution_count": 8,
      "id": "1bd3a488",
      "metadata": {},
      "outputs": [],
      "source": [
        "train_data = waleed.delete_nan_duplicates(train_data)\n",
        "val_data = waleed.delete_nan_duplicates(val_data)\n",
        "test_data = waleed.delete_nan_duplicates(test_data)"
      ]
    },
    {
      "attachments": {},
      "cell_type": "markdown",
      "id": "dd193b0b",
      "metadata": {},
      "source": [
        "encode the labels as below:"
      ]
    },
    {
      "cell_type": "code",
      "execution_count": 9,
      "id": "fbde927a",
      "metadata": {},
      "outputs": [],
      "source": [
        "def label_encoding(df,label,new_label):\n",
        "    encoder = sk.preprocessing.LabelEncoder()\n",
        "    values = df[label].unique()\n",
        "    encoder.fit(values)\n",
        "    df[new_label] = encoder.transform(df[label])\n",
        "    keys = encoder.classes_\n",
        "    values = encoder.transform(encoder.classes_)\n",
        "    dictionary = dict(zip(keys, values))\n",
        "    print(dictionary)"
      ]
    },
    {
      "attachments": {},
      "cell_type": "markdown",
      "id": "9d4b50f2",
      "metadata": {},
      "source": [
        "splitting DataFrame by labels "
      ]
    },
    {
      "cell_type": "code",
      "execution_count": 10,
      "id": "b9812c61",
      "metadata": {},
      "outputs": [],
      "source": [
        "def split_by_label(df, column, val1, val2):\n",
        "    return df[(df[column] == val1) | (df[column] == val2 )]"
      ]
    },
    {
      "cell_type": "code",
      "execution_count": 11,
      "id": "50c43423",
      "metadata": {},
      "outputs": [
        {
          "name": "stdout",
          "output_type": "stream",
          "text": [
            "train data labels: \n",
            "{'irrelevante': 0, 'negative': 1, 'neutral': 2, 'positive': 3}\n",
            "validatin data labels: \n",
            "{'irrelevante': 0, 'negative': 1, 'neutral': 2, 'positive': 3}\n",
            "test data labels: \n",
            "{'irrelevante': 0, 'negative': 1, 'neutral': 2, 'positive': 3}\n"
          ]
        }
      ],
      "source": [
        "new_label = 'label_val'\n",
        "print('train data labels: ')\n",
        "label_encoding(train_data,'label',new_label)\n",
        "print('validatin data labels: ')\n",
        "label_encoding(val_data,'label',new_label)\n",
        "print('test data labels: ')\n",
        "label_encoding(test_data,'label',new_label)"
      ]
    },
    {
      "attachments": {},
      "cell_type": "markdown",
      "id": "34c81f8c",
      "metadata": {},
      "source": [
        "so we need only: <br> 1--> negative <br> 3--> positive"
      ]
    },
    {
      "cell_type": "code",
      "execution_count": 12,
      "id": "49992615",
      "metadata": {},
      "outputs": [],
      "source": [
        "train_data_bi = split_by_label(train_data,new_label,1,3)\n",
        "val_data_bi = split_by_label(val_data,new_label,1,3)\n",
        "test_data_bi = split_by_label(test_data,new_label,1,3)"
      ]
    },
    {
      "cell_type": "code",
      "execution_count": 14,
      "id": "aaf82fe4",
      "metadata": {},
      "outputs": [
        {
          "name": "stdout",
          "output_type": "stream",
          "text": [
            "shape of train(after processing) -> 11073\n",
            "shape of validation(after processing) -> 2916\n",
            "shape of test(after processing) -> 2945\n"
          ]
        }
      ],
      "source": [
        "print('shape of train(after processing) ->',train_data_bi.shape[0])\n",
        "print('shape of validation(after processing) ->',val_data_bi.shape[0])\n",
        "print('shape of test(after processing) ->',test_data_bi.shape[0])"
      ]
    },
    {
      "cell_type": "code",
      "execution_count": 13,
      "id": "aNNrMjaaQanf",
      "metadata": {
        "id": "aNNrMjaaQanf"
      },
      "outputs": [
        {
          "name": "stdout",
          "output_type": "stream",
          "text": [
            "Empty DataFrame\n",
            "Columns: [text, label, label_val]\n",
            "Index: []\n",
            "Empty DataFrame\n",
            "Columns: [text, label, label_val]\n",
            "Index: []\n",
            "Empty DataFrame\n",
            "Columns: [text, label, label_val]\n",
            "Index: []\n"
          ]
        },
        {
          "data": {
            "text/plain": [
              "array([3, 1])"
            ]
          },
          "execution_count": 13,
          "metadata": {},
          "output_type": "execute_result"
        }
      ],
      "source": [
        "# حال اختبار في حال وجودها\n",
        "print(train_data_bi[train_data_bi['text'] == '  '])\n",
        "print(train_data_bi[train_data_bi['text'] =='Nan'])\n",
        "print(train_data_bi[train_data_bi['label'] ==' '])\n",
        "train_data_bi[new_label].unique()"
      ]
    },
    {
      "cell_type": "code",
      "execution_count": 13,
      "id": "8e566a44",
      "metadata": {},
      "outputs": [],
      "source": [
        "def x_y_split(df,x,y):\n",
        "    return df[x].tolist(),df[y].tolist()"
      ]
    },
    {
      "cell_type": "code",
      "execution_count": 14,
      "id": "7f944ae6",
      "metadata": {},
      "outputs": [],
      "source": [
        "x_train, y_train = x_y_split(train_data_bi,'text',new_label)\n",
        "x_val, y_val = x_y_split(val_data_bi,'text',new_label)\n",
        "x_test, y_test = x_y_split(test_data_bi,'text',new_label)"
      ]
    },
    {
      "cell_type": "markdown",
      "id": "2f22713d",
      "metadata": {
        "id": "2f22713d"
      },
      "source": [
        "# Question [2]: Baseline: Bag of Words with Logistic Regression"
      ]
    },
    {
      "attachments": {},
      "cell_type": "markdown",
      "id": "f2c24dab",
      "metadata": {},
      "source": [
        "transform  a vector on the basis of the frequency (count) of each word that occurs in the entire text <br>\n",
        "تحويل الداتا لفيكتور يعبّر عن تكرار الكلمة بالنص"
      ]
    },
    {
      "cell_type": "code",
      "execution_count": 15,
      "id": "68306f5c",
      "metadata": {},
      "outputs": [],
      "source": [
        "def count_vec(data):\n",
        "    count_vectorizer = CountVectorizer()\n",
        "    emb = count_vectorizer.fit_transform(data)\n",
        "    return emb, count_vectorizer"
      ]
    },
    {
      "attachments": {},
      "cell_type": "markdown",
      "id": "a503e994",
      "metadata": {},
      "source": [
        "تجربة افضل \"سولفر\" للريغرشن"
      ]
    },
    {
      "cell_type": "code",
      "execution_count": 19,
      "id": "0134743d",
      "metadata": {},
      "outputs": [],
      "source": [
        "# x_train,y_train = x_y_split(train_data_bi,'text',new_label)\n",
        "# x_test,y_test = x_y_split(test_data_bi,'text',new_label)"
      ]
    },
    {
      "cell_type": "code",
      "execution_count": 20,
      "id": "044fb265",
      "metadata": {},
      "outputs": [],
      "source": [
        "# x_train_counts, count_vectorizer = count_vec(x_train)\n",
        "# x_test_counts = count_vectorizer.transform(x_test) "
      ]
    },
    {
      "cell_type": "code",
      "execution_count": 21,
      "id": "3005ce11",
      "metadata": {},
      "outputs": [],
      "source": [
        "# solver_list = ['liblinear', 'newton-cg', 'lbfgs', 'sag', 'saga']\n",
        "# parameters = dict(solver=solver_list)\n",
        "# lr = LogisticRegression(random_state=42)\n",
        "# clf = GridSearchCV(lr, parameters, cv=5)\n",
        "# clf.fit(x_train_counts, y_train)"
      ]
    },
    {
      "cell_type": "code",
      "execution_count": 22,
      "id": "4ad1f942",
      "metadata": {},
      "outputs": [],
      "source": [
        "# scores = clf.cv_results_['mean_test_score']\n",
        "# for score, solver, in zip(scores, solver_list):\n",
        "#     print(f\"{solver}: {score:.3f}\")"
      ]
    },
    {
      "attachments": {},
      "cell_type": "markdown",
      "id": "82727515",
      "metadata": {},
      "source": [
        "افضلهم على اساس بس saga <br>وقت جربت بعد عمليات التنظيف على التيست عطى قيمة أقل من السولفر الحالي  "
      ]
    },
    {
      "attachments": {},
      "cell_type": "markdown",
      "id": "97119020",
      "metadata": {},
      "source": [
        "فعدِلتُ عن الفكرة "
      ]
    },
    {
      "attachments": {},
      "cell_type": "markdown",
      "id": "92af2375",
      "metadata": {},
      "source": [
        "done testing"
      ]
    },
    {
      "cell_type": "code",
      "execution_count": 16,
      "id": "f25f1542",
      "metadata": {},
      "outputs": [],
      "source": [
        "def logistic_Regressor(x_train , y_train , x_test , y_test , solver = 'liblinear', c=1 ):\n",
        "    clf = LogisticRegression(random_state=40, solver=solver,C=c)\n",
        "    clf.fit(x_train, y_train)\n",
        "    y_predicted = clf.predict(x_test)\n",
        "    return accuracy_score(y_test , y_predicted)"
      ]
    },
    {
      "attachments": {},
      "cell_type": "markdown",
      "id": "b4caa7fc",
      "metadata": {},
      "source": [
        "\n",
        "تقسيم الداتا للفيتشرز والليبل واستدعاء الفيكتورايزر ثمّ التدريب(مجازيّاً) والتوقّع على الداتا المناسبة "
      ]
    },
    {
      "cell_type": "code",
      "execution_count": 17,
      "id": "a6e502d9",
      "metadata": {},
      "outputs": [],
      "source": [
        "def my_model_cv(df_train,df_test):\n",
        "    x_train,y_train = x_y_split(df_train,'text',new_label)\n",
        "    x_test,y_test = x_y_split(df_test,'text',new_label)\n",
        "    x_train_counts, count_vectorizer = count_vec(x_train)\n",
        "    x_test_counts = count_vectorizer.transform(x_test) \n",
        "    accuracy = logistic_Regressor(x_train_counts, y_train, x_test_counts, y_test)\n",
        "    return accuracy"
      ]
    },
    {
      "cell_type": "code",
      "execution_count": 130,
      "id": "9eefd5b7",
      "metadata": {},
      "outputs": [
        {
          "name": "stdout",
          "output_type": "stream",
          "text": [
            "0.8067911714770798\n"
          ]
        }
      ],
      "source": [
        "accuracy = my_model_cv(train_data_bi , test_data_bi)\n",
        "print(accuracy)"
      ]
    },
    {
      "cell_type": "code",
      "execution_count": 131,
      "id": "_iqs3mUtB8UV",
      "metadata": {
        "id": "_iqs3mUtB8UV"
      },
      "outputs": [],
      "source": [
        "model_comparison_table['question_step_number'].append(\"2\")\n",
        "model_comparison_table['model_name'].append(\"baseline logistic regression with bag of words\")\n",
        "model_comparison_table['parameters'].append(\"default\")\n",
        "model_comparison_table['preprocessing_methods'].append(\"none\")\n",
        "model_comparison_table['accuracy'].append(accuracy)"
      ]
    },
    {
      "cell_type": "markdown",
      "id": "oFmJ2HWqRNZa",
      "metadata": {
        "id": "oFmJ2HWqRNZa"
      },
      "source": [
        "# Question [3]: Text Cleaning and Normalization on Bag of Words with Logistic Regression"
      ]
    },
    {
      "cell_type": "markdown",
      "id": "lyzKeB0QC8sY",
      "metadata": {
        "id": "lyzKeB0QC8sY"
      },
      "source": [
        "Prapere The Comparison Dictionary for this step"
      ]
    },
    {
      "cell_type": "code",
      "execution_count": 27,
      "id": "a87mEw9pC8sZ",
      "metadata": {
        "id": "a87mEw9pC8sZ"
      },
      "outputs": [],
      "source": [
        "bag_logistic_comparison_table = {}\n",
        "\n",
        "bag_logistic_comparison_table['question_step_number'] = []\n",
        "bag_logistic_comparison_table['preprocessing_methods'] = []\n",
        "bag_logistic_comparison_table['accuracy'] = []"
      ]
    },
    {
      "attachments": {},
      "cell_type": "markdown",
      "id": "10b7e96d",
      "metadata": {},
      "source": [
        "what I'm doing in each cell is:<br>\n",
        "I'm copying the data_bi(only negative and positive tweets) then apply the functions needed<br> the reseaon for using the same variable is to save memory and the same for \n",
        "not making any new columns for cleaned tweets regarding each question<br>\n",
        "\"ممكن خلي الشرح انكليزي؟ عم اقدر عبّر اكتر \""
      ]
    },
    {
      "attachments": {},
      "cell_type": "markdown",
      "id": "cwaCNfS9RNZc",
      "metadata": {
        "id": "cwaCNfS9RNZc"
      },
      "source": [
        "## [3.1] \n"
      ]
    },
    {
      "cell_type": "code",
      "execution_count": 28,
      "id": "TCMARMvlCs9l",
      "metadata": {
        "id": "TCMARMvlCs9l"
      },
      "outputs": [],
      "source": [
        "train_data_3 = train_data_bi.copy(deep = True)\n",
        "val_data_3 = val_data_bi.copy(deep = True)\n",
        "\n",
        "waleed.preprocesse_df(train_data_3,'text',delete_mentions = True)\n",
        "waleed.preprocesse_df(val_data_3,'text',delete_mentions = True)\n",
        "\n",
        "train_data_3 = waleed.delete_nan_duplicates(train_data_3)\n",
        "val_data_3 = waleed.delete_nan_duplicates(val_data_3)"
      ]
    },
    {
      "cell_type": "code",
      "execution_count": 29,
      "id": "5fbcb670",
      "metadata": {},
      "outputs": [
        {
          "name": "stdout",
          "output_type": "stream",
          "text": [
            "0.8047357584076871\n"
          ]
        }
      ],
      "source": [
        "accuracy = my_model_cv(train_data_3, val_data_3)\n",
        "print(accuracy)"
      ]
    },
    {
      "cell_type": "code",
      "execution_count": 30,
      "id": "YLTsifTUCs9q",
      "metadata": {
        "id": "YLTsifTUCs9q"
      },
      "outputs": [],
      "source": [
        "bag_logistic_comparison_table['question_step_number'].append(\"3.1\")\n",
        "bag_logistic_comparison_table['preprocessing_methods'].append(\"remove mentions\")\n",
        "bag_logistic_comparison_table['accuracy'].append(accuracy)"
      ]
    },
    {
      "cell_type": "markdown",
      "id": "MbJeF_CxRNZd",
      "metadata": {
        "id": "MbJeF_CxRNZd"
      },
      "source": [
        "## [3.2] "
      ]
    },
    {
      "cell_type": "code",
      "execution_count": 31,
      "id": "X6yszO6ODdQ8",
      "metadata": {
        "id": "X6yszO6ODdQ8"
      },
      "outputs": [],
      "source": [
        "train_data_3 = train_data_bi.copy(deep = True)\n",
        "val_data_3 = val_data_bi.copy(deep = True)\n",
        "\n",
        "waleed.preprocesse_df(train_data_3,'text',\n",
        "delete_mentions = True,\n",
        "delete_hashtagss=True)\n",
        "\n",
        "waleed.preprocesse_df(val_data_3,'text',\n",
        "delete_mentions = True,\n",
        "delete_hashtagss=True)\n",
        "\n",
        "train_data_3 = waleed.delete_nan_duplicates(train_data_3)\n",
        "val_data_3 = waleed.delete_nan_duplicates(val_data_3)"
      ]
    },
    {
      "cell_type": "code",
      "execution_count": 32,
      "id": "19LpA-DtDdQ9",
      "metadata": {
        "id": "19LpA-DtDdQ9"
      },
      "outputs": [
        {
          "name": "stdout",
          "output_type": "stream",
          "text": [
            "0.7994505494505495\n"
          ]
        }
      ],
      "source": [
        "# test your model\n",
        "accuracy = my_model_cv(train_data_3,val_data_3)\n",
        "print(accuracy)"
      ]
    },
    {
      "cell_type": "code",
      "execution_count": 33,
      "id": "b1793912",
      "metadata": {},
      "outputs": [],
      "source": [
        "bag_logistic_comparison_table['question_step_number'].append(\"3.2\")\n",
        "bag_logistic_comparison_table['preprocessing_methods'].append(\"remove mentions + remove hashtags\")\n",
        "bag_logistic_comparison_table['accuracy'].append(accuracy)"
      ]
    },
    {
      "attachments": {},
      "cell_type": "markdown",
      "id": "17bd3825",
      "metadata": {},
      "source": [
        "الاطراف المنحازة قد تستخدم وسم/هاشتاغ معيّن "
      ]
    },
    {
      "attachments": {},
      "cell_type": "markdown",
      "id": "73008fec",
      "metadata": {},
      "source": [
        "  لايمكننا الاستفادة الكبيرة من ابقاء الهاشتاغات في حال اختلفت التويتات الجديدة لأن هذه الهاشتاغاية قد تكون تغييرت وتم استبدالها بهاشتاغاية أُخرى "
      ]
    },
    {
      "cell_type": "markdown",
      "id": "GY-HhD2YRNZe",
      "metadata": {
        "id": "GY-HhD2YRNZe"
      },
      "source": [
        "## [3.3] "
      ]
    },
    {
      "cell_type": "code",
      "execution_count": 34,
      "id": "l-5TSuHWRNZe",
      "metadata": {
        "id": "l-5TSuHWRNZe"
      },
      "outputs": [],
      "source": [
        "train_data_3 = train_data_bi.copy(deep = True)\n",
        "val_data_3 = val_data_bi.copy(deep = True)\n",
        "\n",
        "waleed.preprocesse_df(train_data_3,'text',\n",
        "delete_mentions = True,\n",
        "delete_repeateds = True)\n",
        "\n",
        "waleed.preprocesse_df(val_data_3,'text',\n",
        "delete_mentions = True,\n",
        "delete_repeateds = True)\n",
        "\n",
        "train_data_3 = waleed.delete_nan_duplicates(train_data_3)\n",
        "val_data_3 = waleed.delete_nan_duplicates(val_data_3)"
      ]
    },
    {
      "cell_type": "code",
      "execution_count": 35,
      "id": "dc379973",
      "metadata": {},
      "outputs": [
        {
          "name": "stdout",
          "output_type": "stream",
          "text": [
            "0.8047357584076871\n"
          ]
        }
      ],
      "source": [
        "# test your model\n",
        "accuracy = my_model_cv(train_data_3,val_data_3)\n",
        "print(accuracy)"
      ]
    },
    {
      "cell_type": "code",
      "execution_count": 36,
      "id": "61f46e6b",
      "metadata": {},
      "outputs": [],
      "source": [
        "bag_logistic_comparison_table['question_step_number'].append(\"3.3\")\n",
        "bag_logistic_comparison_table['preprocessing_methods'].append(\"remove mentions + remove repeated \")\n",
        "bag_logistic_comparison_table['accuracy'].append(accuracy)"
      ]
    },
    {
      "attachments": {},
      "cell_type": "markdown",
      "id": "ba0051cd",
      "metadata": {},
      "source": [
        "it's kinda reasonable since there might not be a very repeated characters <br> there's no need to take this approach i guess"
      ]
    },
    {
      "cell_type": "markdown",
      "id": "KV9D86kbRNZe",
      "metadata": {
        "id": "KV9D86kbRNZe"
      },
      "source": [
        "## [3.4] "
      ]
    },
    {
      "cell_type": "markdown",
      "id": "3fM_FPldSCxp",
      "metadata": {
        "id": "3fM_FPldSCxp"
      },
      "source": [
        "### [3.4.1] "
      ]
    },
    {
      "cell_type": "code",
      "execution_count": 37,
      "id": "ohGu5R14RNZe",
      "metadata": {
        "id": "ohGu5R14RNZe"
      },
      "outputs": [],
      "source": [
        "train_data_3 = train_data_bi.copy(deep = True)\n",
        "val_data_3 = val_data_bi.copy(deep = True)\n",
        "\n",
        "waleed.preprocesse_df(train_data_3,'text',\n",
        "delete_mentions = True,\n",
        "switch_numberss = True)\n",
        "\n",
        "waleed.preprocesse_df(val_data_3,'text',\n",
        "delete_mentions = True,\n",
        "switch_numberss = True)\n",
        "\n",
        "train_data_3 = waleed.delete_nan_duplicates(train_data_3)\n",
        "val_data_3 = waleed.delete_nan_duplicates(val_data_3)"
      ]
    },
    {
      "cell_type": "code",
      "execution_count": 38,
      "id": "d18fa1e1",
      "metadata": {},
      "outputs": [
        {
          "name": "stdout",
          "output_type": "stream",
          "text": [
            "0.8057652711050103\n"
          ]
        }
      ],
      "source": [
        "# test your model\n",
        "accuracy = my_model_cv(train_data_3,val_data_3)\n",
        "print(accuracy)"
      ]
    },
    {
      "cell_type": "code",
      "execution_count": 39,
      "id": "126adad6",
      "metadata": {},
      "outputs": [],
      "source": [
        "bag_logistic_comparison_table['question_step_number'].append(\"3.4.1\")\n",
        "bag_logistic_comparison_table['preprocessing_methods'].append(\"remove mentions + switch to one type of numbers \")\n",
        "bag_logistic_comparison_table['accuracy'].append(accuracy)"
      ]
    },
    {
      "attachments": {},
      "cell_type": "markdown",
      "id": "8058dc3f",
      "metadata": {},
      "source": [
        "switching to English numbers made a good resulte!"
      ]
    },
    {
      "cell_type": "markdown",
      "id": "N2z1KmQXSAFs",
      "metadata": {
        "id": "N2z1KmQXSAFs"
      },
      "source": [
        "### [3.4.2] "
      ]
    },
    {
      "cell_type": "code",
      "execution_count": 40,
      "id": "fmOXIMWoSAFt",
      "metadata": {
        "id": "fmOXIMWoSAFt"
      },
      "outputs": [],
      "source": [
        "train_data_3 = train_data_bi.copy(deep = True)\n",
        "val_data_3 = val_data_bi.copy(deep = True)\n",
        "\n",
        "waleed.preprocesse_df(train_data_3,'text',\n",
        "delete_mentions = True,\n",
        "numbers_to_tags = True,)\n",
        "\n",
        "waleed.preprocesse_df(val_data_3,'text',\n",
        "delete_mentions = True,\n",
        "numbers_to_tags = True,)\n",
        "\n",
        "train_data_3 = waleed.delete_nan_duplicates(train_data_3)\n",
        "val_data_3 = waleed.delete_nan_duplicates(val_data_3)"
      ]
    },
    {
      "cell_type": "code",
      "execution_count": 41,
      "id": "dba29562",
      "metadata": {},
      "outputs": [
        {
          "name": "stdout",
          "output_type": "stream",
          "text": [
            "0.8040494166094715\n"
          ]
        }
      ],
      "source": [
        "accuracy = my_model_cv(train_data_3,val_data_3)\n",
        "print(accuracy)"
      ]
    },
    {
      "cell_type": "code",
      "execution_count": 42,
      "id": "4504649b",
      "metadata": {},
      "outputs": [],
      "source": [
        "bag_logistic_comparison_table['question_step_number'].append(\"3.4.2\")\n",
        "bag_logistic_comparison_table['preprocessing_methods'].append(\"remove mentions + numbers to tags \")\n",
        "bag_logistic_comparison_table['accuracy'].append(accuracy)"
      ]
    },
    {
      "attachments": {},
      "cell_type": "markdown",
      "id": "914597d9",
      "metadata": {},
      "source": [
        "switch numbers to tags didn't help "
      ]
    },
    {
      "cell_type": "markdown",
      "id": "fCBHc2y6SAL5",
      "metadata": {
        "id": "fCBHc2y6SAL5"
      },
      "source": [
        "### [3.4.3] "
      ]
    },
    {
      "cell_type": "code",
      "execution_count": 43,
      "id": "QJX_PtSzSAL6",
      "metadata": {
        "id": "QJX_PtSzSAL6"
      },
      "outputs": [],
      "source": [
        "train_data_3 = train_data_bi.copy(deep = True)\n",
        "val_data_3 = val_data_bi.copy(deep = True)\n",
        "\n",
        "waleed.preprocesse_df(train_data_3,'text',\n",
        "delete_mentions = True,\n",
        "delete_numberss = True)\n",
        "\n",
        "waleed.preprocesse_df(val_data_3,'text',\n",
        "delete_mentions = True,\n",
        "delete_numberss = True)\n",
        "\n",
        "train_data_3 = waleed.delete_nan_duplicates(train_data_3)\n",
        "val_data_3 = waleed.delete_nan_duplicates(val_data_3)\n"
      ]
    },
    {
      "cell_type": "code",
      "execution_count": 44,
      "id": "e5854978",
      "metadata": {},
      "outputs": [
        {
          "name": "stdout",
          "output_type": "stream",
          "text": [
            "0.8047357584076871\n"
          ]
        }
      ],
      "source": [
        "accuracy = my_model_cv(train_data_3,val_data_3)\n",
        "print(accuracy)"
      ]
    },
    {
      "cell_type": "code",
      "execution_count": 45,
      "id": "f16f634d",
      "metadata": {},
      "outputs": [],
      "source": [
        "bag_logistic_comparison_table['question_step_number'].append(\"3.4.3\")\n",
        "bag_logistic_comparison_table['preprocessing_methods'].append(\"remove mentions + delete numbers \")\n",
        "bag_logistic_comparison_table['accuracy'].append(accuracy)"
      ]
    },
    {
      "attachments": {},
      "cell_type": "markdown",
      "id": "6602bc7f",
      "metadata": {},
      "source": [
        "well,<br> switching to one type of numbers accually is a good one "
      ]
    },
    {
      "cell_type": "markdown",
      "id": "P1aLjPbzRNZe",
      "metadata": {
        "id": "P1aLjPbzRNZe"
      },
      "source": [
        "## [3.5] "
      ]
    },
    {
      "cell_type": "markdown",
      "id": "dbqN7BceSRhS",
      "metadata": {
        "id": "dbqN7BceSRhS"
      },
      "source": [
        "### [3.5.1] "
      ]
    },
    {
      "cell_type": "code",
      "execution_count": 46,
      "id": "caLTQ8EtSRhT",
      "metadata": {
        "id": "caLTQ8EtSRhT"
      },
      "outputs": [],
      "source": [
        "train_data_3 = train_data_bi.copy(deep = True)\n",
        "val_data_3 = val_data_bi.copy(deep = True)\n",
        "\n",
        "waleed.preprocesse_df(train_data_3,'text',\n",
        "delete_mentions = True,\n",
        "switch_numberss = True,\n",
        "delete_non_arabis = True)\n",
        "\n",
        "waleed.preprocesse_df(val_data_3,'text',\n",
        "delete_mentions = True,\n",
        "switch_numberss = True,\n",
        "delete_non_arabis = True)\n",
        "\n",
        "train_data_3 = waleed.delete_nan_duplicates(train_data_3)\n",
        "val_data_3 = waleed.delete_nan_duplicates(val_data_3)"
      ]
    },
    {
      "cell_type": "code",
      "execution_count": 47,
      "id": "c88e316e",
      "metadata": {},
      "outputs": [
        {
          "name": "stdout",
          "output_type": "stream",
          "text": [
            "0.8046687263989015\n"
          ]
        }
      ],
      "source": [
        "accuracy = my_model_cv(train_data_3,val_data_3)\n",
        "print(accuracy)"
      ]
    },
    {
      "cell_type": "code",
      "execution_count": 48,
      "id": "88a52806",
      "metadata": {},
      "outputs": [],
      "source": [
        "bag_logistic_comparison_table['question_step_number'].append(\"3.5.1\")\n",
        "bag_logistic_comparison_table['preprocessing_methods'].append(\"remove mentions + switch numbers + delete non arabic \")\n",
        "bag_logistic_comparison_table['accuracy'].append(accuracy)"
      ]
    },
    {
      "attachments": {},
      "cell_type": "markdown",
      "id": "89ac38bc",
      "metadata": {},
      "source": [
        "not helping :("
      ]
    },
    {
      "cell_type": "markdown",
      "id": "rad8wPeSSRhU",
      "metadata": {
        "id": "rad8wPeSSRhU"
      },
      "source": [
        "### [3.5.2] "
      ]
    },
    {
      "cell_type": "code",
      "execution_count": 49,
      "id": "UZuYtSHaSRhU",
      "metadata": {
        "id": "UZuYtSHaSRhU"
      },
      "outputs": [],
      "source": [
        "train_data_3 = train_data_bi.copy(deep = True)\n",
        "val_data_3 = val_data_bi.copy(deep = True)\n",
        "\n",
        "waleed.preprocesse_df(train_data_3,'text',\n",
        "delete_mentions = True,\n",
        "switch_numberss = True,\n",
        "delete_puns = True)\n",
        "\n",
        "waleed.preprocesse_df(val_data_3,'text',\n",
        "delete_mentions = True,\n",
        "switch_numberss = True,\n",
        "delete_puns = True)\n",
        "\n",
        "train_data_3 = waleed.delete_nan_duplicates(train_data_3)\n",
        "val_data_3 = waleed.delete_nan_duplicates(val_data_3)\n"
      ]
    },
    {
      "cell_type": "code",
      "execution_count": 50,
      "id": "beabdbe2",
      "metadata": {},
      "outputs": [
        {
          "name": "stdout",
          "output_type": "stream",
          "text": [
            "0.8057652711050103\n"
          ]
        }
      ],
      "source": [
        "accuracy = my_model_cv(train_data_3,val_data_3)\n",
        "print(accuracy)"
      ]
    },
    {
      "cell_type": "code",
      "execution_count": 51,
      "id": "ec30f8a7",
      "metadata": {},
      "outputs": [],
      "source": [
        "bag_logistic_comparison_table['question_step_number'].append(\"3.5.2\")\n",
        "bag_logistic_comparison_table['preprocessing_methods'].append(\"remove mentions + switch numbers + delete punctuations \")\n",
        "bag_logistic_comparison_table['accuracy'].append(accuracy)"
      ]
    },
    {
      "attachments": {},
      "cell_type": "markdown",
      "id": "b8d37bcf",
      "metadata": {},
      "source": [
        "just a small improvment"
      ]
    },
    {
      "cell_type": "markdown",
      "id": "FbIUIkezSRhU",
      "metadata": {
        "id": "FbIUIkezSRhU"
      },
      "source": [
        "### [3.5.3] "
      ]
    },
    {
      "cell_type": "code",
      "execution_count": 52,
      "id": "otquvQjuSRhV",
      "metadata": {
        "id": "otquvQjuSRhV"
      },
      "outputs": [],
      "source": [
        "train_data_3 = train_data_bi.copy(deep = True)\n",
        "val_data_3 = val_data_bi.copy(deep = True)\n",
        "\n",
        "waleed.preprocesse_df(train_data_3,'text',\n",
        "delete_mentions = True,\n",
        "switch_numberss = True,\n",
        "delete_puns = True,\n",
        "delete_emojiess = True)\n",
        "\n",
        "waleed.preprocesse_df(val_data_3,'text',\n",
        "delete_mentions = True,\n",
        "switch_numberss = True,\n",
        "delete_puns = True,\n",
        "delete_emojiess = True)\n",
        "\n",
        "train_data_3 = waleed.delete_nan_duplicates(train_data_3)\n",
        "val_data_3 = waleed.delete_nan_duplicates(val_data_3)\n"
      ]
    },
    {
      "cell_type": "code",
      "execution_count": 53,
      "id": "c59776c3",
      "metadata": {},
      "outputs": [
        {
          "name": "stdout",
          "output_type": "stream",
          "text": [
            "0.8050120151047031\n"
          ]
        }
      ],
      "source": [
        "accuracy = my_model_cv(train_data_3,val_data_3)\n",
        "print(accuracy)\n"
      ]
    },
    {
      "cell_type": "code",
      "execution_count": 54,
      "id": "4b7b9786",
      "metadata": {},
      "outputs": [],
      "source": [
        "bag_logistic_comparison_table['question_step_number'].append(\"3.5.3\")\n",
        "bag_logistic_comparison_table['preprocessing_methods'].append(\"remove mentions + delete punc + swith numbers + delete emojes \")\n",
        "bag_logistic_comparison_table['accuracy'].append(accuracy)"
      ]
    },
    {
      "attachments": {},
      "cell_type": "markdown",
      "id": "0ee62fb4",
      "metadata": {},
      "source": [
        "\n",
        "emojies deleting made just a bit less accuracy!"
      ]
    },
    {
      "attachments": {},
      "cell_type": "markdown",
      "id": "94221c23",
      "metadata": {},
      "source": [
        "افضل حل الى الان هو فقط الاكتفاء بمحو المينشنات والتغيير الى الارقام العربية وحذف علامات الترقيم "
      ]
    },
    {
      "cell_type": "markdown",
      "id": "N4WDktTgRNZf",
      "metadata": {
        "id": "N4WDktTgRNZf"
      },
      "source": [
        "## [3.6] "
      ]
    },
    {
      "cell_type": "code",
      "execution_count": 55,
      "id": "B6icsYsFRNZf",
      "metadata": {
        "id": "B6icsYsFRNZf"
      },
      "outputs": [],
      "source": [
        "train_data_3 = train_data_bi.copy(deep = True)\n",
        "val_data_3 = val_data_bi.copy(deep = True)\n",
        "\n",
        "waleed.preprocesse_df(train_data_3,'text',\n",
        "delete_mentions = True,\n",
        "switch_numberss = True,\n",
        "delete_puns = True,\n",
        "delete_stop_wordss = True)\n",
        "\n",
        "waleed.preprocesse_df(val_data_3,'text',\n",
        "delete_mentions = True,\n",
        "switch_numberss = True,\n",
        "delete_puns = True,\n",
        "delete_stop_wordss = True)\n",
        "\n",
        "train_data_3 = waleed.delete_nan_duplicates(train_data_3)\n",
        "val_data_3 = waleed.delete_nan_duplicates(val_data_3)"
      ]
    },
    {
      "cell_type": "code",
      "execution_count": 56,
      "id": "74570e8f",
      "metadata": {},
      "outputs": [
        {
          "name": "stdout",
          "output_type": "stream",
          "text": [
            "0.8094255245958032\n"
          ]
        }
      ],
      "source": [
        "accuracy = my_model_cv(train_data_3,val_data_3)\n",
        "print(accuracy)\n"
      ]
    },
    {
      "cell_type": "code",
      "execution_count": 57,
      "id": "38fe1558",
      "metadata": {},
      "outputs": [],
      "source": [
        "bag_logistic_comparison_table['question_step_number'].append(\"3.6\")\n",
        "bag_logistic_comparison_table['preprocessing_methods'].append(\"remove mentions + switch numbers + delete punctuations + delete stope-words\")\n",
        "bag_logistic_comparison_table['accuracy'].append(accuracy)"
      ]
    },
    {
      "attachments": {},
      "cell_type": "markdown",
      "id": "112b5275",
      "metadata": {},
      "source": [
        "deleting stop words helped a LOT!!"
      ]
    },
    {
      "cell_type": "markdown",
      "id": "wbGPWNtoR4p-",
      "metadata": {
        "id": "wbGPWNtoR4p-"
      },
      "source": [
        "## [3.7] "
      ]
    },
    {
      "attachments": {},
      "cell_type": "markdown",
      "id": "e184588c",
      "metadata": {},
      "source": [
        "لانه يأخذ وقت طويل جدا جداFARASA-stemmer لم يمكنني من استخدام <br>  nltk ISRIStemmer لجأت الى"
      ]
    },
    {
      "cell_type": "code",
      "execution_count": 58,
      "id": "c1f8c192",
      "metadata": {},
      "outputs": [],
      "source": [
        "train_data_3 = train_data_bi.copy(deep = True)\n",
        "val_data_3 = val_data_bi.copy(deep = True)\n",
        "\n",
        "waleed.preprocesse_df(train_data_3,'text',\n",
        "delete_mentions = True,\n",
        "switch_numberss = True,\n",
        "delete_puns = True,\n",
        "delete_stop_wordss = True,\n",
        "steaming_texts = True)\n",
        "\n",
        "waleed.preprocesse_df(val_data_3,'text',\n",
        "delete_mentions = True,\n",
        "switch_numberss = True,\n",
        "delete_puns = True,\n",
        "delete_stop_wordss = True,\n",
        "steaming_texts = True)\n",
        "\n",
        "train_data_3 = waleed.delete_nan_duplicates(train_data_3)\n",
        "val_data_3 = waleed.delete_nan_duplicates(val_data_3)"
      ]
    },
    {
      "cell_type": "code",
      "execution_count": 59,
      "id": "a55b871f",
      "metadata": {},
      "outputs": [
        {
          "name": "stdout",
          "output_type": "stream",
          "text": [
            "0.7821748107364074\n"
          ]
        }
      ],
      "source": [
        "accuracy = my_model_cv(train_data_3,val_data_3)\n",
        "print(accuracy)"
      ]
    },
    {
      "cell_type": "code",
      "execution_count": 60,
      "id": "43eda4b7",
      "metadata": {},
      "outputs": [],
      "source": [
        "bag_logistic_comparison_table['question_step_number'].append(\"3.7\")\n",
        "bag_logistic_comparison_table['preprocessing_methods'].append(\"remove mentions + switch numbers + delete punctuations + delete stope-words +stemmig the words\")\n",
        "bag_logistic_comparison_table['accuracy'].append(accuracy)"
      ]
    },
    {
      "attachments": {},
      "cell_type": "markdown",
      "id": "d9ff2519",
      "metadata": {},
      "source": [
        "the lesson here is to **never** **ever** stemm Arabic words at ALL !"
      ]
    },
    {
      "cell_type": "markdown",
      "id": "V-rCzzoMR41T",
      "metadata": {
        "id": "V-rCzzoMR41T"
      },
      "source": [
        "## [3.8] "
      ]
    },
    {
      "cell_type": "markdown",
      "id": "iXF2L4Z-Sd3N",
      "metadata": {
        "id": "iXF2L4Z-Sd3N"
      },
      "source": [
        "### [3.8.1] "
      ]
    },
    {
      "cell_type": "code",
      "execution_count": 61,
      "id": "wk-Z3Gw4Sd3O",
      "metadata": {
        "id": "wk-Z3Gw4Sd3O"
      },
      "outputs": [],
      "source": [
        "train_data_3 = train_data_bi.copy(deep = True)\n",
        "val_data_3 = val_data_bi.copy(deep = True)\n",
        "\n",
        "waleed.preprocesse_df(train_data_3,'text',\n",
        "delete_mentions = True,\n",
        "switch_numberss = True,\n",
        "delete_puns = True,\n",
        "delete_stop_wordss = True,\n",
        "hamza_standardizations = True)\n",
        "\n",
        "waleed.preprocesse_df(val_data_3,'text',\n",
        "delete_mentions = True,\n",
        "switch_numberss = True,\n",
        "delete_puns = True,\n",
        "delete_stop_wordss = True,\n",
        "hamza_standardizations = True)\n",
        "\n",
        "train_data_3 = waleed.delete_nan_duplicates(train_data_3)\n",
        "val_data_3 = waleed.delete_nan_duplicates(val_data_3)\n"
      ]
    },
    {
      "cell_type": "code",
      "execution_count": 62,
      "id": "ecd17a1a",
      "metadata": {},
      "outputs": [
        {
          "name": "stdout",
          "output_type": "stream",
          "text": [
            "0.8087375300997592\n"
          ]
        }
      ],
      "source": [
        "accuracy = my_model_cv(train_data_3,val_data_3)\n",
        "print(accuracy)"
      ]
    },
    {
      "attachments": {},
      "cell_type": "markdown",
      "id": "6903fb3d",
      "metadata": {},
      "source": [
        "close to help but didn't help yet accually"
      ]
    },
    {
      "cell_type": "code",
      "execution_count": 63,
      "id": "93cc8a05",
      "metadata": {},
      "outputs": [],
      "source": [
        "bag_logistic_comparison_table['question_step_number'].append(\"3.8.1\")\n",
        "bag_logistic_comparison_table['preprocessing_methods'].append(\"remove mentions + switch numbers + delete punctuations + delete stope-words + standerlize hamza\")\n",
        "bag_logistic_comparison_table['accuracy'].append(accuracy)"
      ]
    },
    {
      "cell_type": "markdown",
      "id": "ij5gdJA4Sd3O",
      "metadata": {
        "id": "ij5gdJA4Sd3O"
      },
      "source": [
        "### [3.8.2] "
      ]
    },
    {
      "cell_type": "code",
      "execution_count": 64,
      "id": "bDLOsd4tSd3O",
      "metadata": {
        "id": "bDLOsd4tSd3O"
      },
      "outputs": [],
      "source": [
        "train_data_3 = train_data_bi.copy(deep = True)\n",
        "val_data_3 = val_data_bi.copy(deep = True)\n",
        "\n",
        "waleed.preprocesse_df(train_data_3,'text',\n",
        "delete_mentions = True,\n",
        "switch_numberss = True,\n",
        "delete_puns = True,\n",
        "delete_stop_wordss = True,\n",
        "aliphs_standardizations = True)\n",
        "\n",
        "waleed.preprocesse_df(val_data_3,'text',\n",
        "delete_mentions = True,\n",
        "switch_numberss = True,\n",
        "delete_puns = True,\n",
        "delete_stop_wordss = True,\n",
        "aliphs_standardizations = True)\n",
        "\n",
        "train_data_3 = waleed.delete_nan_duplicates(train_data_3)\n",
        "val_data_3 = waleed.delete_nan_duplicates(val_data_3)\n"
      ]
    },
    {
      "cell_type": "code",
      "execution_count": 65,
      "id": "3895e8a9",
      "metadata": {},
      "outputs": [
        {
          "name": "stdout",
          "output_type": "stream",
          "text": [
            "0.8001375988992088\n"
          ]
        }
      ],
      "source": [
        "accuracy = my_model_cv(train_data_3,val_data_3)\n",
        "print(accuracy)"
      ]
    },
    {
      "attachments": {},
      "cell_type": "markdown",
      "id": "dff3ea1f",
      "metadata": {},
      "source": [
        "also didn't help "
      ]
    },
    {
      "cell_type": "code",
      "execution_count": 66,
      "id": "d0789482",
      "metadata": {},
      "outputs": [],
      "source": [
        "bag_logistic_comparison_table['question_step_number'].append(\"3.8.2\")\n",
        "bag_logistic_comparison_table['preprocessing_methods'].append(\"remove mentions + switch numbers + delete punctuations + delete stope-words + standerlize Aliph\")\n",
        "bag_logistic_comparison_table['accuracy'].append(accuracy)"
      ]
    },
    {
      "cell_type": "code",
      "execution_count": null,
      "id": "b012ac83",
      "metadata": {},
      "outputs": [],
      "source": []
    },
    {
      "cell_type": "markdown",
      "id": "H6k8JnJDSd3P",
      "metadata": {
        "id": "H6k8JnJDSd3P"
      },
      "source": [
        "### [3.8.3] "
      ]
    },
    {
      "cell_type": "code",
      "execution_count": 67,
      "id": "JhSOCYLmSd3P",
      "metadata": {
        "id": "JhSOCYLmSd3P"
      },
      "outputs": [],
      "source": [
        "train_data_3 = train_data_bi.copy(deep = True)\n",
        "val_data_3 = val_data_bi.copy(deep = True)\n",
        "\n",
        "waleed.preprocesse_df(train_data_3,'text',\n",
        "delete_mentions = True,\n",
        "switch_numberss = True,\n",
        "delete_puns = True,\n",
        "delete_stop_wordss = True,\n",
        "tatwil_removers = True)\n",
        "\n",
        "waleed.preprocesse_df(val_data_3,'text',\n",
        "delete_mentions = True,\n",
        "switch_numberss = True,\n",
        "delete_puns = True,\n",
        "delete_stop_wordss = True,\n",
        "tatwil_removers = True)\n",
        "\n",
        "train_data_3 = waleed.delete_nan_duplicates(train_data_3)\n",
        "val_data_3 = waleed.delete_nan_duplicates(val_data_3)\n"
      ]
    },
    {
      "cell_type": "code",
      "execution_count": 68,
      "id": "6b0cc720",
      "metadata": {},
      "outputs": [
        {
          "name": "stdout",
          "output_type": "stream",
          "text": [
            "0.8083275980729525\n"
          ]
        }
      ],
      "source": [
        "accuracy = my_model_cv(train_data_3,val_data_3)\n",
        "print(accuracy)"
      ]
    },
    {
      "cell_type": "code",
      "execution_count": 69,
      "id": "93c4f03f",
      "metadata": {},
      "outputs": [],
      "source": [
        "bag_logistic_comparison_table['question_step_number'].append(\"3.8.3\")\n",
        "bag_logistic_comparison_table['preprocessing_methods'].append(\"remove mentions + switch numbers + delete punctuations + delete stope-words + remove tatwil\")\n",
        "bag_logistic_comparison_table['accuracy'].append(accuracy)"
      ]
    },
    {
      "attachments": {},
      "cell_type": "markdown",
      "id": "7d972ab6",
      "metadata": {},
      "source": [
        "also nothing is happening "
      ]
    },
    {
      "cell_type": "markdown",
      "id": "1TmDb343Sls9",
      "metadata": {
        "id": "1TmDb343Sls9"
      },
      "source": [
        "### [3.8.4] "
      ]
    },
    {
      "cell_type": "code",
      "execution_count": 70,
      "id": "wWJ-Z11_Sls-",
      "metadata": {
        "id": "wWJ-Z11_Sls-"
      },
      "outputs": [],
      "source": [
        "train_data_3 = train_data_bi.copy(deep = True)\n",
        "val_data_3 = val_data_bi.copy(deep = True)\n",
        "\n",
        "waleed.preprocesse_df(train_data_3,'text',\n",
        "delete_mentions = True,\n",
        "switch_numberss = True,\n",
        "delete_puns = True,\n",
        "delete_stop_wordss = True,\n",
        "tanwin_removals = True)\n",
        "\n",
        "waleed.preprocesse_df(val_data_3,'text',\n",
        "delete_mentions = True,\n",
        "switch_numberss = True,\n",
        "delete_puns = True,\n",
        "delete_stop_wordss = True,\n",
        "tanwin_removals = True)\n",
        "\n",
        "train_data_3 = waleed.delete_nan_duplicates(train_data_3)\n",
        "val_data_3 = waleed.delete_nan_duplicates(val_data_3)"
      ]
    },
    {
      "attachments": {},
      "cell_type": "markdown",
      "id": "cf2bd403",
      "metadata": {},
      "source": [
        "since this one also did good, why not doing both of them!"
      ]
    },
    {
      "cell_type": "code",
      "execution_count": 71,
      "id": "37210084",
      "metadata": {},
      "outputs": [
        {
          "name": "stdout",
          "output_type": "stream",
          "text": [
            "0.8094255245958032\n"
          ]
        }
      ],
      "source": [
        "accuracy = my_model_cv(train_data_3,val_data_3)\n",
        "print(accuracy)"
      ]
    },
    {
      "attachments": {},
      "cell_type": "markdown",
      "id": "101651e4",
      "metadata": {},
      "source": [
        "nothing at all happened and it does make sence since it's just Tanwin"
      ]
    },
    {
      "cell_type": "code",
      "execution_count": 72,
      "id": "1da30d54",
      "metadata": {},
      "outputs": [],
      "source": [
        "bag_logistic_comparison_table['question_step_number'].append(\"3.8.4\")\n",
        "bag_logistic_comparison_table['preprocessing_methods'].append(\"remove mentions + switch numbers + delete punctuations + delete stope-words + remove tanwin\")\n",
        "bag_logistic_comparison_table['accuracy'].append(accuracy)"
      ]
    },
    {
      "attachments": {},
      "cell_type": "markdown",
      "id": "7b562ab0",
      "metadata": {},
      "source": [
        "let's try mix of cleaning pre-proccess"
      ]
    },
    {
      "cell_type": "code",
      "execution_count": 73,
      "id": "f2ccf797",
      "metadata": {},
      "outputs": [],
      "source": [
        "train_data_3 = train_data_bi.copy(deep = True)\n",
        "val_data_3 = val_data_bi.copy(deep = True)\n",
        "\n",
        "waleed.preprocesse_df(train_data_3,'text',\n",
        "delete_mentions = True,\n",
        "switch_numberss = True,\n",
        "delete_puns = True,\n",
        "delete_stop_wordss = True,\n",
        "# delete_emojiess = True,\n",
        "hamza_standardizations = True,\n",
        "tanwin_removals = True,\n",
        "tatwil_removers = True,)\n",
        "\n",
        "waleed.preprocesse_df(val_data_3,'text',\n",
        "delete_mentions = True,\n",
        "switch_numberss = True,\n",
        "delete_puns = True,\n",
        "delete_stop_wordss = True,\n",
        "# delete_emojiess = True,\n",
        "hamza_standardizations = True,\n",
        "tanwin_removals = True,\n",
        "tatwil_removers = True,)\n",
        "\n",
        "train_data_3 = waleed.delete_nan_duplicates(train_data_3)\n",
        "val_data_3 = waleed.delete_nan_duplicates(val_data_3)"
      ]
    },
    {
      "cell_type": "code",
      "execution_count": 74,
      "id": "426b00d7",
      "metadata": {},
      "outputs": [
        {
          "name": "stdout",
          "output_type": "stream",
          "text": [
            "0.8079834824501032\n"
          ]
        }
      ],
      "source": [
        "accuracy = my_model_cv(train_data_3,val_data_3)\n",
        "print(accuracy)"
      ]
    },
    {
      "cell_type": "code",
      "execution_count": 75,
      "id": "3178293c",
      "metadata": {},
      "outputs": [],
      "source": [
        "bag_logistic_comparison_table['question_step_number'].append(\"3.8.7\")\n",
        "bag_logistic_comparison_table['preprocessing_methods'].append(\"remove (stope-words,punctuations,mentions,) \")\n",
        "bag_logistic_comparison_table['accuracy'].append(accuracy)"
      ]
    },
    {
      "cell_type": "markdown",
      "id": "0V5LD9EWVgY7",
      "metadata": {
        "id": "0V5LD9EWVgY7"
      },
      "source": [
        "## [3.9] "
      ]
    },
    {
      "cell_type": "code",
      "execution_count": 76,
      "id": "AkVzG3AWVgZA",
      "metadata": {
        "id": "AkVzG3AWVgZA"
      },
      "outputs": [],
      "source": [
        "train_data_3 = train_data_bi.copy(deep = True)\n",
        "val_data_3 = val_data_bi.copy(deep = True)\n",
        "\n",
        "waleed.preprocesse_df(train_data_3,'text',\n",
        "delete_mentions = True,\n",
        "switch_numberss = True,\n",
        "delete_puns = True,\n",
        "delete_stop_wordss = True,\n",
        "delete_white_spaces = True)\n",
        "\n",
        "waleed.preprocesse_df(val_data_3,'text',\n",
        "delete_mentions = True,\n",
        "switch_numberss = True,\n",
        "delete_puns = True,\n",
        "delete_stop_wordss = True,\n",
        "delete_white_spaces = True)\n",
        "\n",
        "train_data_3 = waleed.delete_nan_duplicates(train_data_3)\n",
        "val_data_3 = waleed.delete_nan_duplicates(val_data_3)"
      ]
    },
    {
      "cell_type": "code",
      "execution_count": 77,
      "id": "168ae8ec",
      "metadata": {},
      "outputs": [
        {
          "name": "stdout",
          "output_type": "stream",
          "text": [
            "0.8094255245958032\n"
          ]
        }
      ],
      "source": [
        "accuracy = my_model_cv(train_data_3,val_data_3)\n",
        "print(accuracy)"
      ]
    },
    {
      "cell_type": "code",
      "execution_count": 78,
      "id": "1d1a38cf",
      "metadata": {},
      "outputs": [],
      "source": [
        "bag_logistic_comparison_table['question_step_number'].append(\"3.9\")\n",
        "bag_logistic_comparison_table['preprocessing_methods'].append(\"remove mentions + switch numbers + delete punctuations + delete stope-words + delete spaces\")\n",
        "bag_logistic_comparison_table['accuracy'].append(accuracy)"
      ]
    },
    {
      "cell_type": "code",
      "execution_count": 79,
      "id": "25396353",
      "metadata": {},
      "outputs": [],
      "source": [
        "train_data_3 = train_data_bi.copy(deep = True)\n",
        "val_data_3 = val_data_bi.copy(deep = True)\n",
        "\n",
        "waleed.preprocesse_df(train_data_3,'text',\n",
        "switch_numberss = True,\n",
        "delete_puns = True,\n",
        "delete_stop_wordss = True,\n",
        "delete_white_spaces = True\n",
        ")\n",
        "\n",
        "waleed.preprocesse_df(val_data_3,'text',\n",
        "switch_numberss = True,\n",
        "delete_puns = True,\n",
        "delete_stop_wordss = True,\n",
        "delete_white_spaces = True\n",
        ")\n",
        "\n",
        "train_data_3 = waleed.delete_nan_duplicates(train_data_3)\n",
        "val_data_3 = waleed.delete_nan_duplicates(val_data_3)"
      ]
    },
    {
      "cell_type": "code",
      "execution_count": 80,
      "id": "0c970c02",
      "metadata": {},
      "outputs": [
        {
          "name": "stdout",
          "output_type": "stream",
          "text": [
            "0.8097527472527473\n"
          ]
        }
      ],
      "source": [
        "accuracy = my_model_cv(train_data_3,val_data_3)\n",
        "print(accuracy)"
      ]
    },
    {
      "cell_type": "code",
      "execution_count": 81,
      "id": "6bb4f50d",
      "metadata": {},
      "outputs": [],
      "source": [
        "bag_logistic_comparison_table['question_step_number'].append(\"3.random\")\n",
        "bag_logistic_comparison_table['preprocessing_methods'].append(\"delete punctuations + delete stope-words + white spaces + switch numbers\")\n",
        "bag_logistic_comparison_table['accuracy'].append(accuracy)"
      ]
    },
    {
      "attachments": {},
      "cell_type": "markdown",
      "id": "fac0e1b8",
      "metadata": {},
      "source": [
        " من المفترض ان لاتختلف الدقّة عند حذف الفراغات لأنها غير ممثلة اساسا بالنموذج <br> وها هي ذا لم تختلف"
      ]
    },
    {
      "cell_type": "markdown",
      "id": "vc96CuQStFA9",
      "metadata": {
        "id": "vc96CuQStFA9"
      },
      "source": [
        "## [3.10]"
      ]
    },
    {
      "cell_type": "markdown",
      "id": "pCJ7itd3tJjw",
      "metadata": {
        "id": "pCJ7itd3tJjw"
      },
      "source": [
        "لا يوجد عمليات اضافية من القسم السابق"
      ]
    },
    {
      "cell_type": "markdown",
      "id": "lSaKeo_BEuWK",
      "metadata": {
        "id": "lSaKeo_BEuWK"
      },
      "source": [
        "## Print Table"
      ]
    },
    {
      "cell_type": "code",
      "execution_count": 82,
      "id": "A_3K2Wz9EuWK",
      "metadata": {
        "colab": {
          "base_uri": "https://localhost:8080/",
          "height": 112
        },
        "id": "A_3K2Wz9EuWK",
        "outputId": "f382a09e-4322-4923-e7a0-93964a9507b3"
      },
      "outputs": [
        {
          "data": {
            "text/html": [
              "<div>\n",
              "<style scoped>\n",
              "    .dataframe tbody tr th:only-of-type {\n",
              "        vertical-align: middle;\n",
              "    }\n",
              "\n",
              "    .dataframe tbody tr th {\n",
              "        vertical-align: top;\n",
              "    }\n",
              "\n",
              "    .dataframe thead th {\n",
              "        text-align: right;\n",
              "    }\n",
              "</style>\n",
              "<table border=\"1\" class=\"dataframe\">\n",
              "  <thead>\n",
              "    <tr style=\"text-align: right;\">\n",
              "      <th></th>\n",
              "      <th>question_step_number</th>\n",
              "      <th>preprocessing_methods</th>\n",
              "      <th>accuracy</th>\n",
              "    </tr>\n",
              "  </thead>\n",
              "  <tbody>\n",
              "    <tr>\n",
              "      <th>17</th>\n",
              "      <td>3.random</td>\n",
              "      <td>delete punctuations + delete stope-words + whi...</td>\n",
              "      <td>0.809753</td>\n",
              "    </tr>\n",
              "    <tr>\n",
              "      <th>14</th>\n",
              "      <td>3.8.4</td>\n",
              "      <td>remove mentions + switch numbers + delete punc...</td>\n",
              "      <td>0.809426</td>\n",
              "    </tr>\n",
              "    <tr>\n",
              "      <th>16</th>\n",
              "      <td>3.9</td>\n",
              "      <td>remove mentions + switch numbers + delete punc...</td>\n",
              "      <td>0.809426</td>\n",
              "    </tr>\n",
              "    <tr>\n",
              "      <th>9</th>\n",
              "      <td>3.6</td>\n",
              "      <td>remove mentions + switch numbers + delete punc...</td>\n",
              "      <td>0.809426</td>\n",
              "    </tr>\n",
              "    <tr>\n",
              "      <th>11</th>\n",
              "      <td>3.8.1</td>\n",
              "      <td>remove mentions + switch numbers + delete punc...</td>\n",
              "      <td>0.808738</td>\n",
              "    </tr>\n",
              "  </tbody>\n",
              "</table>\n",
              "</div>"
            ],
            "text/plain": [
              "   question_step_number                              preprocessing_methods  \\\n",
              "17             3.random  delete punctuations + delete stope-words + whi...   \n",
              "14                3.8.4  remove mentions + switch numbers + delete punc...   \n",
              "16                  3.9  remove mentions + switch numbers + delete punc...   \n",
              "9                   3.6  remove mentions + switch numbers + delete punc...   \n",
              "11                3.8.1  remove mentions + switch numbers + delete punc...   \n",
              "\n",
              "    accuracy  \n",
              "17  0.809753  \n",
              "14  0.809426  \n",
              "16  0.809426  \n",
              "9   0.809426  \n",
              "11  0.808738  "
            ]
          },
          "execution_count": 82,
          "metadata": {},
          "output_type": "execute_result"
        }
      ],
      "source": [
        "df = pd.DataFrame(bag_logistic_comparison_table)\n",
        "df = df.sort_values(by = 'accuracy' , ascending = False)\n",
        "df.head()"
      ]
    },
    {
      "cell_type": "code",
      "execution_count": 83,
      "id": "7d768b1f",
      "metadata": {},
      "outputs": [],
      "source": [
        "write_dic(bag_logistic_comparison_table,\"bag_logistic_comparison_table\")"
      ]
    },
    {
      "attachments": {},
      "cell_type": "markdown",
      "id": "5egzCqh_Dvrf",
      "metadata": {
        "id": "5egzCqh_Dvrf"
      },
      "source": [
        "## Your best model\n",
        "ما هي العمليات الأفضل؟ اكتبها هنا<br>\n",
        "remove(punctuations + stope-words + spaces) + switch numbers"
      ]
    },
    {
      "cell_type": "code",
      "execution_count": 132,
      "id": "C8LAew5pDvrg",
      "metadata": {
        "id": "C8LAew5pDvrg"
      },
      "outputs": [],
      "source": [
        "train_data_3 = train_data_bi.copy(deep = True)\n",
        "test_data_3 = test_data_bi.copy(deep = True)\n",
        "\n",
        "waleed.preprocesse_df(train_data_3,'text',\n",
        "switch_numberss = True,\n",
        "delete_puns = True,\n",
        "delete_stop_wordss = True,\n",
        "delete_white_spaces = True)\n",
        "\n",
        "waleed.preprocesse_df(test_data_3,'text',\n",
        "switch_numberss = True,\n",
        "delete_puns = True,\n",
        "delete_stop_wordss = True,\n",
        "delete_white_spaces = True)\n",
        "\n",
        "train_data_3 = waleed.delete_nan_duplicates(train_data_3)\n",
        "test_data_3 = waleed.delete_nan_duplicates(test_data_3)\n",
        "\n"
      ]
    },
    {
      "cell_type": "code",
      "execution_count": 134,
      "id": "ebee3a5b",
      "metadata": {},
      "outputs": [
        {
          "name": "stdout",
          "output_type": "stream",
          "text": [
            "0.8085685141108466\n"
          ]
        }
      ],
      "source": [
        "accuracy = my_model_cv(train_data_3, test_data_3)\n",
        "print(accuracy)"
      ]
    },
    {
      "cell_type": "code",
      "execution_count": 135,
      "id": "Zso2cwozEex7",
      "metadata": {
        "id": "Zso2cwozEex7"
      },
      "outputs": [],
      "source": [
        "model_comparison_table['question_step_number'].append(\"3\")\n",
        "model_comparison_table['model_name'].append(\"logistic regression with bag of words\")\n",
        "model_comparison_table['parameters'].append(\"solver: liblinear\")\n",
        "model_comparison_table['preprocessing_methods'].append(\"remove mentions + switch numbers + delete punctuations + delete stope-words + delete spaces\")\n",
        "model_comparison_table['accuracy'].append(accuracy)"
      ]
    },
    {
      "cell_type": "code",
      "execution_count": 137,
      "id": "4a5652f2",
      "metadata": {},
      "outputs": [],
      "source": [
        "write_dic(model_comparison_table,\"model_comparison_table\")"
      ]
    },
    {
      "cell_type": "markdown",
      "id": "bPlfAwx7FfjJ",
      "metadata": {
        "id": "bPlfAwx7FfjJ"
      },
      "source": [
        "# Question [4]: TF-IDF with Logistic Regression"
      ]
    },
    {
      "cell_type": "markdown",
      "id": "AWU_I4CjFfjP",
      "metadata": {
        "id": "AWU_I4CjFfjP"
      },
      "source": [
        "Prapere The Comparison Dictionary for this step"
      ]
    },
    {
      "cell_type": "code",
      "execution_count": 103,
      "id": "CxP9dtS-FfjQ",
      "metadata": {
        "id": "CxP9dtS-FfjQ"
      },
      "outputs": [],
      "source": [
        "tf_idf_comparison_table = {}\n",
        "\n",
        "tf_idf_comparison_table['question_step_number'] = []\n",
        "tf_idf_comparison_table['model_name'] = []\n",
        "tf_idf_comparison_table['parameters'] = []\n",
        "tf_idf_comparison_table['accuracy'] = []"
      ]
    },
    {
      "cell_type": "markdown",
      "id": "wLfn2vfUFfjQ",
      "metadata": {
        "id": "wLfn2vfUFfjQ"
      },
      "source": [
        "## [4.1] \n",
        "شرح ما يقوم به الكود\n"
      ]
    },
    {
      "cell_type": "code",
      "execution_count": 104,
      "id": "95cc7cc5",
      "metadata": {},
      "outputs": [],
      "source": [
        "train_data_4 = train_data_bi.copy(deep = True)\n",
        "test_data_4 = test_data_bi.copy(deep = True)\n",
        "val_data_4 = val_data_bi.copy(deep = True)\n",
        "\n",
        "waleed.preprocesse_df(train_data_4,'text',\n",
        "switch_numberss = True,\n",
        "delete_puns = True,\n",
        "delete_stop_wordss = True,\n",
        "delete_white_spaces = True)\n",
        "\n",
        "waleed.preprocesse_df(test_data_4,'text',\n",
        "switch_numberss = True,\n",
        "delete_puns = True,\n",
        "delete_stop_wordss = True,\n",
        "delete_white_spaces = True)\n",
        "\n",
        "waleed.preprocesse_df(test_data_4,'text',\n",
        "switch_numberss = True,\n",
        "delete_puns = True,\n",
        "delete_stop_wordss = True,\n",
        "delete_white_spaces = True)\n",
        "\n",
        "\n",
        "train_data_4 = waleed.delete_nan_duplicates(train_data_4)\n",
        "test_data_4 = waleed.delete_nan_duplicates(test_data_4)\n",
        "val_data_4 = waleed.delete_nan_duplicates(val_data_4)"
      ]
    },
    {
      "cell_type": "code",
      "execution_count": 105,
      "id": "d4bfe577",
      "metadata": {},
      "outputs": [],
      "source": [
        "x_train_4,y_train_4 = x_y_split(train_data_4,'text',new_label)\n",
        "x_test_4,y_test_4 = x_y_split(test_data_4,'text',new_label)\n",
        "x_val_4,y_val_4 = x_y_split(val_data_4,'text',new_label)"
      ]
    },
    {
      "cell_type": "code",
      "execution_count": 106,
      "id": "wTANTEnOFfjQ",
      "metadata": {
        "id": "wTANTEnOFfjQ"
      },
      "outputs": [],
      "source": [
        "# do code\n",
        "def tf_idf(data,min_d=10,max_d=0.6,ng_range = (1, 2) ):\n",
        "    tfidf_vec = TfidfVectorizer(min_df=min_d, max_df=max_d, ngram_range=ng_range)\n",
        "    train = tfidf_vec.fit_transform(data)\n",
        "    return train, tfidf_vec, \n"
      ]
    },
    {
      "cell_type": "code",
      "execution_count": 107,
      "id": "2a301e21",
      "metadata": {},
      "outputs": [],
      "source": [
        "x_train_tfidf, tfidf_vectorizer= tf_idf(x_train_4)\n",
        "x_test_tfidf = tfidf_vectorizer.transform(x_test_4)\n",
        "x_val_tfidf = tfidf_vectorizer.transform(x_val_4)\n"
      ]
    },
    {
      "cell_type": "code",
      "execution_count": 108,
      "id": "8d492402",
      "metadata": {},
      "outputs": [
        {
          "name": "stdout",
          "output_type": "stream",
          "text": [
            "0.733196159122085\n"
          ]
        }
      ],
      "source": [
        "accuracy = logistic_Regressor(x_train_tfidf,y_train_4,x_val_tfidf,y_val_4)\n",
        "print(accuracy)"
      ]
    },
    {
      "cell_type": "code",
      "execution_count": 109,
      "id": "ifcZ4edIFfjR",
      "metadata": {
        "id": "ifcZ4edIFfjR"
      },
      "outputs": [],
      "source": [
        "tf_idf_comparison_table['question_step_number'].append(\"4.1\")\n",
        "tf_idf_comparison_table['model_name'].append(\"logistic regression with TF_IDF\")\n",
        "tf_idf_comparison_table['parameters'].append(\"min_df=10, max_df=0.6, ngram_range=(1, 2)\")\n",
        "tf_idf_comparison_table['accuracy'].append(accuracy)"
      ]
    },
    {
      "cell_type": "markdown",
      "id": "npObP2JLUBgw",
      "metadata": {
        "id": "npObP2JLUBgw"
      },
      "source": [
        "## [4.2] "
      ]
    },
    {
      "cell_type": "code",
      "execution_count": null,
      "id": "V_KxmQdgUBg5",
      "metadata": {
        "id": "V_KxmQdgUBg5"
      },
      "outputs": [],
      "source": [
        "from sklearn.pipeline import Pipeline\n",
        "pipeline = Pipeline([\n",
        "    ('tfidf', TfidfVectorizer()),\n",
        "    ('clf', LogisticRegression()),\n",
        "])\n",
        "parameters = {\n",
        "    'tfidf__max_df': (0.25, 0.45, 0.5, 0.6 ,0.7),\n",
        "    'tfidf__min_df': (3,5,10, 15, 25,),\n",
        "    'tfidf__ngram_range': [(1, 2), (1, 3)],\n",
        "    'clf__C': [0.01, 0.1, 1, 3, 6, 100],\n",
        "}"
      ]
    },
    {
      "cell_type": "code",
      "execution_count": null,
      "id": "e7b676c5",
      "metadata": {},
      "outputs": [
        {
          "name": "stdout",
          "output_type": "stream",
          "text": [
            "Fitting 2 folds for each of 240 candidates, totalling 480 fits\n"
          ]
        },
        {
          "data": {
            "text/plain": [
              "GridSearchCV(cv=2,\n",
              "             estimator=Pipeline(steps=[('tfidf', TfidfVectorizer()),\n",
              "                                       ('clf', LogisticRegression())]),\n",
              "             n_jobs=2,\n",
              "             param_grid={'clf__C': [0.01, 0.1, 1, 3, 6, 100],\n",
              "                         'tfidf__max_df': (0.25, 0.45, 0.5, 0.6, 0.7),\n",
              "                         'tfidf__min_df': (5, 10, 15, 25),\n",
              "                         'tfidf__ngram_range': [(1, 2), (1, 3)]},\n",
              "             verbose=3)"
            ]
          },
          "execution_count": 82,
          "metadata": {},
          "output_type": "execute_result"
        }
      ],
      "source": [
        "from sklearn.model_selection import GridSearchCV\n",
        "grid_search_tune = GridSearchCV(pipeline, parameters, cv=2, n_jobs=2, verbose=3)\n",
        "grid_search_tune.fit(x_train_4, y_train_4)"
      ]
    },
    {
      "cell_type": "code",
      "execution_count": null,
      "id": "e398d504",
      "metadata": {},
      "outputs": [
        {
          "name": "stdout",
          "output_type": "stream",
          "text": [
            "Best parameters set:\n",
            "[('tfidf', TfidfVectorizer(max_df=0.7, min_df=5, ngram_range=(1, 3))), ('clf', LogisticRegression(C=3))]\n"
          ]
        }
      ],
      "source": [
        "print(\"Best parameters set:\")\n",
        "print(grid_search_tune.best_estimator_.steps) "
      ]
    },
    {
      "cell_type": "code",
      "execution_count": 97,
      "id": "0591e2e1",
      "metadata": {},
      "outputs": [],
      "source": [
        "x_train_tfidf, tfidf_vectorizer= tf_idf(x_train_4,max_d=0.7,min_d=5,ng_range=(1,3))\n",
        "x_test_tfidf = tfidf_vectorizer.transform(x_test_4)\n",
        "x_val_tfidf = tfidf_vectorizer.transform(x_val_4)"
      ]
    },
    {
      "cell_type": "code",
      "execution_count": 110,
      "id": "0c7ec43e",
      "metadata": {},
      "outputs": [
        {
          "name": "stdout",
          "output_type": "stream",
          "text": [
            "0.7349108367626886\n"
          ]
        }
      ],
      "source": [
        "accuracy = logistic_Regressor(x_train_tfidf,y_train_4,x_val_tfidf,y_val_4,c=3,)\n",
        "print(accuracy)"
      ]
    },
    {
      "cell_type": "code",
      "execution_count": 111,
      "id": "fb488660",
      "metadata": {},
      "outputs": [],
      "source": [
        "tf_idf_comparison_table['question_step_number'].append(\"4.2\")\n",
        "tf_idf_comparison_table['model_name'].append(\"logistic regression with TF_IDF\")\n",
        "tf_idf_comparison_table['parameters'].append(\"min_df=5, max_df=0.7, ngram_range=(1, 3) , C=3\")\n",
        "tf_idf_comparison_table['accuracy'].append(accuracy)"
      ]
    },
    {
      "cell_type": "code",
      "execution_count": 112,
      "id": "039f6bfc",
      "metadata": {},
      "outputs": [],
      "source": [
        "write_dic(tf_idf_comparison_table,\"tf_idf_comparison_table\")"
      ]
    },
    {
      "cell_type": "markdown",
      "id": "9fDl29bpGSMT",
      "metadata": {
        "id": "9fDl29bpGSMT"
      },
      "source": [
        "## [4.3] "
      ]
    },
    {
      "cell_type": "markdown",
      "id": "rR_tP1OzGSMc",
      "metadata": {
        "id": "rR_tP1OzGSMc"
      },
      "source": [
        "extra"
      ]
    },
    {
      "cell_type": "markdown",
      "id": "B1Arms4fGh61",
      "metadata": {
        "id": "B1Arms4fGh61"
      },
      "source": [
        "## Print Table"
      ]
    },
    {
      "cell_type": "code",
      "execution_count": 113,
      "id": "e979a226",
      "metadata": {},
      "outputs": [],
      "source": [
        "tf_idf_comparison_table = read_dic(\"tf_idf_comparison_table\")"
      ]
    },
    {
      "cell_type": "code",
      "execution_count": 115,
      "id": "rG-ISTabGh62",
      "metadata": {
        "colab": {
          "base_uri": "https://localhost:8080/",
          "height": 81
        },
        "id": "rG-ISTabGh62",
        "outputId": "988abfc2-3029-47ab-f4ba-3ddc75b40151"
      },
      "outputs": [
        {
          "data": {
            "text/html": [
              "<div>\n",
              "<style scoped>\n",
              "    .dataframe tbody tr th:only-of-type {\n",
              "        vertical-align: middle;\n",
              "    }\n",
              "\n",
              "    .dataframe tbody tr th {\n",
              "        vertical-align: top;\n",
              "    }\n",
              "\n",
              "    .dataframe thead th {\n",
              "        text-align: right;\n",
              "    }\n",
              "</style>\n",
              "<table border=\"1\" class=\"dataframe\">\n",
              "  <thead>\n",
              "    <tr style=\"text-align: right;\">\n",
              "      <th></th>\n",
              "      <th>question_step_number</th>\n",
              "      <th>model_name</th>\n",
              "      <th>parameters</th>\n",
              "      <th>accuracy</th>\n",
              "    </tr>\n",
              "  </thead>\n",
              "  <tbody>\n",
              "    <tr>\n",
              "      <th>1</th>\n",
              "      <td>4.2</td>\n",
              "      <td>logistic regression with TF_IDF</td>\n",
              "      <td>min_df=5, max_df=0.7, ngram_range=(1, 3) , C=3</td>\n",
              "      <td>0.734911</td>\n",
              "    </tr>\n",
              "    <tr>\n",
              "      <th>0</th>\n",
              "      <td>4.1</td>\n",
              "      <td>logistic regression with TF_IDF</td>\n",
              "      <td>min_df=10, max_df=0.6, ngram_range=(1, 2)</td>\n",
              "      <td>0.733196</td>\n",
              "    </tr>\n",
              "  </tbody>\n",
              "</table>\n",
              "</div>"
            ],
            "text/plain": [
              "  question_step_number                       model_name  \\\n",
              "1                  4.2  logistic regression with TF_IDF   \n",
              "0                  4.1  logistic regression with TF_IDF   \n",
              "\n",
              "                                       parameters  accuracy  \n",
              "1  min_df=5, max_df=0.7, ngram_range=(1, 3) , C=3  0.734911  \n",
              "0       min_df=10, max_df=0.6, ngram_range=(1, 2)  0.733196  "
            ]
          },
          "execution_count": 115,
          "metadata": {},
          "output_type": "execute_result"
        }
      ],
      "source": [
        "df = pd.DataFrame(tf_idf_comparison_table)\n",
        "df = df.sort_values(by = 'accuracy' , ascending = False)\n",
        "df"
      ]
    },
    {
      "cell_type": "markdown",
      "id": "78_CjYZCGh63",
      "metadata": {
        "id": "78_CjYZCGh63"
      },
      "source": [
        "## Your best model\n",
        "ما هو النموذج الأفضل؟ اكتبه هنا"
      ]
    },
    {
      "cell_type": "code",
      "execution_count": 138,
      "id": "I5vU6JrJGh63",
      "metadata": {
        "id": "I5vU6JrJGh63"
      },
      "outputs": [
        {
          "name": "stdout",
          "output_type": "stream",
          "text": [
            "0.7436246174770487\n"
          ]
        }
      ],
      "source": [
        "# test the model\n",
        "accuracy = logistic_Regressor(x_train_tfidf,y_train_4,x_test_tfidf,y_test_4,c=3,)\n",
        "print(accuracy)"
      ]
    },
    {
      "cell_type": "code",
      "execution_count": 140,
      "id": "BVdVtInOGh63",
      "metadata": {
        "id": "BVdVtInOGh63"
      },
      "outputs": [],
      "source": [
        "model_comparison_table['question_step_number'].append(\"4\")\n",
        "model_comparison_table['model_name'].append(\"logistic regression with tf-idf\")\n",
        "model_comparison_table['parameters'].append(\"solver: liblinear, min_df=5, max_df=0.7, ngram_range=(1, 3) , C=3\")\n",
        "model_comparison_table['preprocessing_methods'].append(\"remove mentions + switch numbers + delete punctuations + delete stope-words + delete spaces\")\n",
        "model_comparison_table['accuracy'].append(accuracy)"
      ]
    },
    {
      "cell_type": "code",
      "execution_count": 141,
      "id": "8dbb570b",
      "metadata": {},
      "outputs": [],
      "source": [
        "write_dic(model_comparison_table,\"model_comparison_table\")"
      ]
    },
    {
      "cell_type": "markdown",
      "id": "PX_GDsJYHOmO",
      "metadata": {
        "id": "PX_GDsJYHOmO"
      },
      "source": [
        "# Question [5]: Deep NN"
      ]
    },
    {
      "cell_type": "markdown",
      "id": "aIWfX3nkHOmW",
      "metadata": {
        "id": "aIWfX3nkHOmW"
      },
      "source": [
        "Prapere The Comparison Dictionary for this step"
      ]
    },
    {
      "cell_type": "code",
      "execution_count": 18,
      "id": "drR1YXa8HOmX",
      "metadata": {
        "id": "drR1YXa8HOmX"
      },
      "outputs": [],
      "source": [
        "dnn_comparison_table = {}\n",
        "\n",
        "dnn_comparison_table['question_step_number'] = []\n",
        "dnn_comparison_table['model_name'] = []\n",
        "dnn_comparison_table['parameters'] = []\n",
        "dnn_comparison_table['accuracy'] = []"
      ]
    },
    {
      "cell_type": "markdown",
      "id": "0nyeT0eFHOmX",
      "metadata": {
        "id": "0nyeT0eFHOmX"
      },
      "source": [
        "## [5.1] \n",
        "شرح ما يقوم به الكود\n"
      ]
    },
    {
      "cell_type": "code",
      "execution_count": 40,
      "id": "4f575e9b",
      "metadata": {},
      "outputs": [],
      "source": [
        "from keras.backend import clear_session\n",
        "clear_session()"
      ]
    },
    {
      "attachments": {},
      "cell_type": "markdown",
      "id": "c8040dc5",
      "metadata": {},
      "source": [
        "تبديل قم الايجابي=3 الى 1 والسلبي=1 الى 0"
      ]
    },
    {
      "cell_type": "code",
      "execution_count": 41,
      "id": "26d58d51",
      "metadata": {},
      "outputs": [],
      "source": [
        "def swap(val):\n",
        "    if val == 3:\n",
        "        return 1\n",
        "    elif val == 1 :\n",
        "        return 0"
      ]
    },
    {
      "cell_type": "code",
      "execution_count": 21,
      "id": "7421ebe1",
      "metadata": {},
      "outputs": [],
      "source": [
        "#  dklfjdsklfjlkdj lkdsjflksj fklj ldsjf ldsjldsj flkdjfldsj fldj fldsjf\n",
        "# ldskjfkdsjfljfkld djffdasdsd\n",
        "#  dfjds hfjf dsajfkl dsaf jdashf uip erf erhf reipu fgrei hfierfoeriwh re"
      ]
    },
    {
      "cell_type": "code",
      "execution_count": 42,
      "id": "c1cf7862",
      "metadata": {},
      "outputs": [],
      "source": [
        "train_data_5 = train_data_bi.copy(deep = True)\n",
        "val_data_5 = val_data_bi.copy(deep = True)\n",
        "test_data_5 = test_data_bi.copy(deep = True)\n",
        "\n",
        "waleed.preprocesse_df(train_data_5,'text',\n",
        "switch_numberss = True,\n",
        "delete_puns = True,\n",
        "delete_stop_wordss = True,\n",
        "delete_white_spaces = True)\n",
        "\n",
        "waleed.preprocesse_df(val_data_5,'text',\n",
        "switch_numberss = True,\n",
        "delete_puns = True,\n",
        "delete_stop_wordss = True,\n",
        "delete_white_spaces = True)\n",
        "\n",
        "waleed.preprocesse_df(test_data_5,'text',\n",
        "switch_numberss = True,\n",
        "delete_puns = True,\n",
        "delete_stop_wordss = True,\n",
        "delete_white_spaces = True)"
      ]
    },
    {
      "cell_type": "code",
      "execution_count": 43,
      "id": "f08030d7",
      "metadata": {},
      "outputs": [],
      "source": [
        "train_data_5.to_csv('train_data_5.csv')\n",
        "test_data_5.to_csv('test_data_5.csv')\n",
        "val_data_5.to_csv('val_data_5.csv')"
      ]
    },
    {
      "cell_type": "code",
      "execution_count": 44,
      "id": "88ab0975",
      "metadata": {},
      "outputs": [],
      "source": [
        "test_data_5['bi'] = test_data_5[new_label].apply(lambda val: swap(val))\n",
        "train_data_5['bi']=train_data_5[new_label].apply(lambda val: swap(val))\n",
        "val_data_5['bi']=val_data_5[new_label].apply(lambda val: swap(val))"
      ]
    },
    {
      "cell_type": "code",
      "execution_count": 45,
      "id": "796e72c2",
      "metadata": {},
      "outputs": [],
      "source": [
        "\n",
        "sentences_train_5 = train_data_5['text'].to_numpy()\n",
        "sentences_val_5 = val_data_5['text'].to_numpy()\n",
        "sentences_test_5 = test_data_5['text'].to_numpy()\n",
        "\n",
        "y_train_5 = train_data_5['bi'].to_numpy()\n",
        "y_val_5  = val_data_5['bi'].to_numpy()\n",
        "y_test_5  = test_data_5['bi'].to_numpy()"
      ]
    },
    {
      "cell_type": "code",
      "execution_count": 46,
      "id": "2191b948",
      "metadata": {},
      "outputs": [
        {
          "data": {
            "text/plain": [
              "<11073x52717 sparse matrix of type '<class 'numpy.int64'>'\n",
              "\twith 222366 stored elements in Compressed Sparse Row format>"
            ]
          },
          "execution_count": 46,
          "metadata": {},
          "output_type": "execute_result"
        }
      ],
      "source": [
        "vectorizer = CountVectorizer()\n",
        "vectorizer.fit(sentences_train_5)\n",
        "\n",
        "x_train_5 = vectorizer.transform(sentences_train_5)\n",
        "x_val_5  = vectorizer.transform(sentences_val_5)\n",
        "x_test_5  = vectorizer.transform(sentences_test_5)\n",
        "x_train_5"
      ]
    },
    {
      "cell_type": "code",
      "execution_count": 47,
      "id": "6ca4e83a",
      "metadata": {},
      "outputs": [],
      "source": [
        "classes_num = len(np.unique(y_train_5))\n",
        "input_size = x_train_5.shape[1]\n",
        "Dl_model = tf.keras.models.Sequential([\n",
        "    tf.keras.layers.InputLayer(input_shape=(input_size,)),\n",
        "    tf.keras.layers.Dense(units = 10,activation='relu'),\n",
        "    tf.keras.layers.Dense(units = 5,activation='relu'),\n",
        "    tf.keras.layers.Dense(classes_num,activation='softmax')\n",
        "])"
      ]
    },
    {
      "cell_type": "code",
      "execution_count": 48,
      "id": "278fac39",
      "metadata": {},
      "outputs": [
        {
          "name": "stdout",
          "output_type": "stream",
          "text": [
            "Model: \"sequential\"\n",
            "_________________________________________________________________\n",
            " Layer (type)                Output Shape              Param #   \n",
            "=================================================================\n",
            " dense (Dense)               (None, 10)                527180    \n",
            "                                                                 \n",
            " dense_1 (Dense)             (None, 5)                 55        \n",
            "                                                                 \n",
            " dense_2 (Dense)             (None, 2)                 12        \n",
            "                                                                 \n",
            "=================================================================\n",
            "Total params: 527,247\n",
            "Trainable params: 527,247\n",
            "Non-trainable params: 0\n",
            "_________________________________________________________________\n"
          ]
        }
      ],
      "source": [
        "from keras.utils.vis_utils import plot_model\n",
        "Dl_model.compile(loss=tf.keras.losses.SparseCategoricalCrossentropy(), \n",
        "               optimizer='adam', \n",
        "               metrics=['accuracy'])\n",
        "Dl_model.summary()"
      ]
    },
    {
      "cell_type": "code",
      "execution_count": 49,
      "id": "97e51c38",
      "metadata": {},
      "outputs": [],
      "source": [
        "callback = tf.keras.callbacks.EarlyStopping(patience=4, restore_best_weights=True)\n",
        "\n",
        "history_DNN = Dl_model.fit(x_train_5.A, y_train_5,\n",
        "                     epochs=100,\n",
        "                     verbose=False,\n",
        "                     validation_data=(x_val_5,y_val_5),\n",
        "                     batch_size=10,\n",
        "                     callbacks=[callback])"
      ]
    },
    {
      "cell_type": "code",
      "execution_count": 50,
      "id": "37930a1d",
      "metadata": {},
      "outputs": [],
      "source": [
        "def evaluating_the_model(model , Xs, Ys):\n",
        "    return model.evaluate(Xs,Ys)"
      ]
    },
    {
      "cell_type": "code",
      "execution_count": 51,
      "id": "08e0a321",
      "metadata": {},
      "outputs": [
        {
          "name": "stdout",
          "output_type": "stream",
          "text": [
            "347/347 [==============================] - 0s 981us/step - loss: 0.1234 - accuracy: 0.9660\n"
          ]
        },
        {
          "data": {
            "text/plain": [
              "[0.12341618537902832, 0.9659532308578491]"
            ]
          },
          "execution_count": 51,
          "metadata": {},
          "output_type": "execute_result"
        }
      ],
      "source": [
        "evaluating_the_model(Dl_model , x_train_5 , y_train_5)"
      ]
    },
    {
      "cell_type": "code",
      "execution_count": 52,
      "id": "ad3cdd4b",
      "metadata": {},
      "outputs": [
        {
          "name": "stdout",
          "output_type": "stream",
          "text": [
            "93/93 [==============================] - 0s 938us/step - loss: 0.4648 - accuracy: 0.7990\n"
          ]
        },
        {
          "data": {
            "text/plain": [
              "[0.464825302362442, 0.7989813089370728]"
            ]
          },
          "execution_count": 52,
          "metadata": {},
          "output_type": "execute_result"
        }
      ],
      "source": [
        "evaluating_the_model(Dl_model , x_test_5 , y_test_5)"
      ]
    },
    {
      "cell_type": "code",
      "execution_count": 53,
      "id": "f0c72bfb",
      "metadata": {},
      "outputs": [
        {
          "data": {
            "text/plain": [
              "<AxesSubplot:>"
            ]
          },
          "execution_count": 53,
          "metadata": {},
          "output_type": "execute_result"
        },
        {
          "data": {
            "image/png": "[encoded data removed]",
            "text/plain": [
              "<Figure size 800x500 with 1 Axes>"
            ]
          },
          "metadata": {},
          "output_type": "display_data"
        }
      ],
      "source": [
        "pd.DataFrame(history_DNN.history).plot(figsize=(8,5))"
      ]
    },
    {
      "cell_type": "code",
      "execution_count": 54,
      "id": "69ea20c5",
      "metadata": {},
      "outputs": [
        {
          "name": "stdout",
          "output_type": "stream",
          "text": [
            "93/93 [==============================] - 0s 976us/step - loss: 0.4648 - accuracy: 0.7990\n"
          ]
        }
      ],
      "source": [
        "accuracy_DNN = evaluating_the_model(Dl_model , x_test_5 , y_test_5)[1]"
      ]
    },
    {
      "cell_type": "code",
      "execution_count": 66,
      "id": "343aae24",
      "metadata": {},
      "outputs": [],
      "source": [
        "dnn_comparison_table['question_step_number'].append(\"5.1\")\n",
        "dnn_comparison_table['model_name'].append(\"Fully Connected DNN\")\n",
        "dnn_comparison_table['parameters'].append(\"Dense->10, Dense->5, Dense->2\\n loss:SparseCategoricalCrossentropy\\noptimizer: adam\")\n",
        "dnn_comparison_table['accuracy'].append(accuracy_DNN)"
      ]
    },
    {
      "cell_type": "code",
      "execution_count": 67,
      "id": "0e3b7d41",
      "metadata": {},
      "outputs": [],
      "source": [
        "write_dic(dnn_comparison_table,\"dnn_comparison_table\")"
      ]
    },
    {
      "cell_type": "markdown",
      "id": "bzZBlWAdHOmY",
      "metadata": {
        "id": "bzZBlWAdHOmY"
      },
      "source": [
        "## [5.2] "
      ]
    },
    {
      "attachments": {},
      "cell_type": "markdown",
      "id": "6c7daf13",
      "metadata": {},
      "source": [
        "**CNN**"
      ]
    },
    {
      "cell_type": "code",
      "execution_count": 32,
      "id": "2ae15482",
      "metadata": {},
      "outputs": [],
      "source": [
        "from keras.backend import clear_session\n",
        "clear_session()"
      ]
    },
    {
      "attachments": {},
      "cell_type": "markdown",
      "id": "23c22ae3",
      "metadata": {},
      "source": [
        "لازم نعمل طبقة امبادينغ للسامبلز "
      ]
    },
    {
      "cell_type": "code",
      "execution_count": 45,
      "id": "AcAcfSrFHOmY",
      "metadata": {
        "id": "AcAcfSrFHOmY"
      },
      "outputs": [
        {
          "name": "stdout",
          "output_type": "stream",
          "text": [
            "56136\n",
            "ZAINABKADYROV اللله يكون روسيا ثعالب الأرض\n",
            "[96, 1, 196]\n"
          ]
        }
      ],
      "source": [
        "tokenizer = Tokenizer(num_words=5000)\n",
        "tokenizer.fit_on_texts(sentences_train_5)\n",
        "\n",
        "x_train_53 = tokenizer.texts_to_sequences(sentences_train_5)\n",
        "x_val_53 = tokenizer.texts_to_sequences(sentences_val_5)\n",
        "x_test_53 = tokenizer.texts_to_sequences(sentences_test_5)\n",
        "\n",
        "vocab_size = len(tokenizer.word_index) + 1  # Adding 1 because of reserved 0 index\n",
        "print(vocab_size)\n",
        "print(sentences_train_5[2])\n",
        "print(x_train_53[2])"
      ]
    },
    {
      "attachments": {},
      "cell_type": "markdown",
      "id": "f5b0ceb1",
      "metadata": {},
      "source": [
        "نعمل بادينغ للجمل بحيث يكون للكل الهم نفس الطول"
      ]
    },
    {
      "cell_type": "code",
      "execution_count": 46,
      "id": "fec31019",
      "metadata": {},
      "outputs": [],
      "source": [
        "maxlen = 200\n",
        "x_train_53 = pad_sequences(x_train_53, padding='post', maxlen=maxlen)\n",
        "x_val_53 = pad_sequences(x_val_53, padding='post', maxlen=maxlen)\n",
        "x_test_53 = pad_sequences(x_test_53, padding='post', maxlen=maxlen)\n",
        "\n"
      ]
    },
    {
      "cell_type": "code",
      "execution_count": 34,
      "id": "b0f584d3",
      "metadata": {},
      "outputs": [],
      "source": [
        "embedding_dim = 100\n",
        "cnn = Sequential()\n",
        "cnn.add(layers.Embedding(vocab_size, embedding_dim, input_length=maxlen))\n",
        "cnn.add(layers.Conv1D(128, 5, activation='relu'))\n",
        "cnn.add(layers.GlobalMaxPooling1D())\n",
        "cnn.add(layers.Dense(16, activation='relu'))\n",
        "cnn.add(layers.Dense(8, activation='relu'))\n",
        "cnn.add(layers.Dense(1, activation='sigmoid'))"
      ]
    },
    {
      "cell_type": "code",
      "execution_count": 35,
      "id": "67fbf085",
      "metadata": {},
      "outputs": [
        {
          "name": "stdout",
          "output_type": "stream",
          "text": [
            "Model: \"sequential\"\n",
            "_________________________________________________________________\n",
            " Layer (type)                Output Shape              Param #   \n",
            "=================================================================\n",
            " embedding (Embedding)       (None, 200, 100)          5613600   \n",
            "                                                                 \n",
            " conv1d (Conv1D)             (None, 196, 128)          64128     \n",
            "                                                                 \n",
            " global_max_pooling1d (Globa  (None, 128)              0         \n",
            " lMaxPooling1D)                                                  \n",
            "                                                                 \n",
            " dense (Dense)               (None, 16)                2064      \n",
            "                                                                 \n",
            " dense_1 (Dense)             (None, 8)                 136       \n",
            "                                                                 \n",
            " dense_2 (Dense)             (None, 1)                 9         \n",
            "                                                                 \n",
            "=================================================================\n",
            "Total params: 5,679,937\n",
            "Trainable params: 5,679,937\n",
            "Non-trainable params: 0\n",
            "_________________________________________________________________\n"
          ]
        }
      ],
      "source": [
        "cnn.compile(optimizer='adam',\n",
        "loss='binary_crossentropy',\n",
        "metrics=['accuracy'],)\n",
        "cnn.summary() "
      ]
    },
    {
      "cell_type": "code",
      "execution_count": 30,
      "id": "aafcd761",
      "metadata": {},
      "outputs": [],
      "source": [
        "y_train_53 = np.asarray(y_train_5).astype('float32').reshape((-1,1))"
      ]
    },
    {
      "cell_type": "code",
      "execution_count": 39,
      "id": "9ca850a6",
      "metadata": {},
      "outputs": [],
      "source": [
        "callback = tf.keras.callbacks.EarlyStopping(patience=4, restore_best_weights=True)\n",
        "history_CNN = cnn.fit(x_train_53, y_train_53,\n",
        "                    epochs=20,\n",
        "                    verbose=False,\n",
        "                    validation_split=0.2,\n",
        "                    batch_size=10,\n",
        "                    callbacks = [callback])"
      ]
    },
    {
      "cell_type": "code",
      "execution_count": 41,
      "id": "3366fcbc",
      "metadata": {},
      "outputs": [
        {
          "name": "stdout",
          "output_type": "stream",
          "text": [
            "347/347 [==============================] - 2s 4ms/step - loss: 0.3054 - accuracy: 0.8840\n"
          ]
        },
        {
          "data": {
            "text/plain": [
              "[0.3053763508796692, 0.8839519619941711]"
            ]
          },
          "execution_count": 41,
          "metadata": {},
          "output_type": "execute_result"
        }
      ],
      "source": [
        "evaluating_the_model(cnn , x_train_53 , y_train_5)"
      ]
    },
    {
      "cell_type": "code",
      "execution_count": 48,
      "id": "4a07d088",
      "metadata": {},
      "outputs": [
        {
          "name": "stdout",
          "output_type": "stream",
          "text": [
            "93/93 [==============================] - 0s 4ms/step - loss: 0.5222 - accuracy: 0.7531\n"
          ]
        },
        {
          "data": {
            "text/plain": [
              "[0.5221638083457947, 0.753140926361084]"
            ]
          },
          "execution_count": 48,
          "metadata": {},
          "output_type": "execute_result"
        }
      ],
      "source": [
        "evaluating_the_model(cnn , x_test_53 , y_test_5)"
      ]
    },
    {
      "cell_type": "code",
      "execution_count": 50,
      "id": "82a10871",
      "metadata": {},
      "outputs": [
        {
          "name": "stdout",
          "output_type": "stream",
          "text": [
            "93/93 [==============================] - 0s 5ms/step - loss: 0.5222 - accuracy: 0.7531\n"
          ]
        }
      ],
      "source": [
        "accuracy_CNN = evaluating_the_model(cnn , x_test_53 , y_test_5)[1]"
      ]
    },
    {
      "cell_type": "code",
      "execution_count": 51,
      "id": "0614d85f",
      "metadata": {},
      "outputs": [],
      "source": [
        "dnn_comparison_table = read_dic(\"dnn_comparison_table\")"
      ]
    },
    {
      "cell_type": "code",
      "execution_count": 53,
      "id": "e1b77519",
      "metadata": {},
      "outputs": [],
      "source": [
        "dnn_comparison_table['question_step_number'].append(\"5.2\")\n",
        "dnn_comparison_table['model_name'].append(\"CNN\")\n",
        "dnn_comparison_table['parameters'].append(\"embadding,Conv1D(128filter)(5kernal), globalMaxPooling\\n denses(16,8,1sigmoid)\\nloss:binary_cross\\noptimizer: adam\")\n",
        "dnn_comparison_table['accuracy'].append(accuracy_CNN)"
      ]
    },
    {
      "cell_type": "code",
      "execution_count": 54,
      "id": "u6VtvSDoI885",
      "metadata": {
        "id": "u6VtvSDoI885"
      },
      "outputs": [],
      "source": [
        "write_dic(dnn_comparison_table,\"dnn_comparison_table\")"
      ]
    },
    {
      "cell_type": "code",
      "execution_count": 56,
      "id": "293e5342",
      "metadata": {},
      "outputs": [
        {
          "data": {
            "text/plain": [
              "<AxesSubplot:>"
            ]
          },
          "execution_count": 56,
          "metadata": {},
          "output_type": "execute_result"
        },
        {
          "data": {
            "image/png": "[encoded data removed]",
            "text/plain": [
              "<Figure size 800x500 with 1 Axes>"
            ]
          },
          "metadata": {},
          "output_type": "display_data"
        }
      ],
      "source": [
        "pd.DataFrame(history_CNN.history).plot(figsize=(8,5))"
      ]
    },
    {
      "cell_type": "markdown",
      "id": "5N0vwmpMKQCs",
      "metadata": {
        "id": "5N0vwmpMKQCs"
      },
      "source": [
        "### Your best model"
      ]
    },
    {
      "cell_type": "code",
      "execution_count": 55,
      "id": "0NY3HdSvKQCw",
      "metadata": {
        "id": "0NY3HdSvKQCw"
      },
      "outputs": [
        {
          "data": {
            "text/html": [
              "<div>\n",
              "<style scoped>\n",
              "    .dataframe tbody tr th:only-of-type {\n",
              "        vertical-align: middle;\n",
              "    }\n",
              "\n",
              "    .dataframe tbody tr th {\n",
              "        vertical-align: top;\n",
              "    }\n",
              "\n",
              "    .dataframe thead th {\n",
              "        text-align: right;\n",
              "    }\n",
              "</style>\n",
              "<table border=\"1\" class=\"dataframe\">\n",
              "  <thead>\n",
              "    <tr style=\"text-align: right;\">\n",
              "      <th></th>\n",
              "      <th>question_step_number</th>\n",
              "      <th>model_name</th>\n",
              "      <th>parameters</th>\n",
              "      <th>accuracy</th>\n",
              "    </tr>\n",
              "  </thead>\n",
              "  <tbody>\n",
              "    <tr>\n",
              "      <th>0</th>\n",
              "      <td>5.1</td>\n",
              "      <td>Fully Connected DNN</td>\n",
              "      <td>Dense-&gt;10, Dense-&gt;5, Dense-&gt;2\\n loss:SparseCat...</td>\n",
              "      <td>0.793548</td>\n",
              "    </tr>\n",
              "    <tr>\n",
              "      <th>1</th>\n",
              "      <td>5.2</td>\n",
              "      <td>CNN</td>\n",
              "      <td>embadding,Conv1D(128filter)(5kernal), globalMa...</td>\n",
              "      <td>0.753141</td>\n",
              "    </tr>\n",
              "  </tbody>\n",
              "</table>\n",
              "</div>"
            ],
            "text/plain": [
              "  question_step_number           model_name  \\\n",
              "0                  5.1  Fully Connected DNN   \n",
              "1                  5.2                  CNN   \n",
              "\n",
              "                                          parameters  accuracy  \n",
              "0  Dense->10, Dense->5, Dense->2\\n loss:SparseCat...  0.793548  \n",
              "1  embadding,Conv1D(128filter)(5kernal), globalMa...  0.753141  "
            ]
          },
          "execution_count": 55,
          "metadata": {},
          "output_type": "execute_result"
        }
      ],
      "source": [
        "df = pd.DataFrame(dnn_comparison_table)\n",
        "df = df.sort_values(by = 'accuracy' , ascending = False)\n",
        "df.head()"
      ]
    },
    {
      "cell_type": "code",
      "execution_count": 69,
      "id": "d638ac9f",
      "metadata": {},
      "outputs": [
        {
          "data": {
            "text/plain": [
              "{'question_step_number': ['2', '3', '4'],\n",
              " 'model_name': ['baseline logistic regression with bag of words',\n",
              "  'logistic regression with bag of words',\n",
              "  'logistic regression with tf-idf'],\n",
              " 'parameters': ['default',\n",
              "  'solver: liblinear',\n",
              "  'solver: liblinear, min_df=5, max_df=0.7, ngram_range=(1, 3) , C=3'],\n",
              " 'preprocessing_methods': ['none',\n",
              "  'remove mentions + switch numbers + delete punctuations + delete stope-words + delete spaces',\n",
              "  'remove mentions + switch numbers + delete punctuations + delete stope-words + delete spaces'],\n",
              " 'accuracy': [0.8067911714770798, 0.8085685141108466, 0.7436246174770487]}"
            ]
          },
          "execution_count": 69,
          "metadata": {},
          "output_type": "execute_result"
        }
      ],
      "source": [
        "model_comparison_table"
      ]
    },
    {
      "cell_type": "code",
      "execution_count": 70,
      "id": "cf41c2a1",
      "metadata": {},
      "outputs": [],
      "source": [
        "model_comparison_table = read_dic(\"model_comparison_table\")"
      ]
    },
    {
      "cell_type": "code",
      "execution_count": 72,
      "id": "ZhmsKwtOKQCw",
      "metadata": {
        "id": "ZhmsKwtOKQCw"
      },
      "outputs": [],
      "source": [
        "model_comparison_table['question_step_number'].append(\"5\")\n",
        "model_comparison_table['model_name'].append(\"DNN\")\n",
        "model_comparison_table['parameters'].append(\"Dense->10, Dense->5, Dense->2\\n loss:SparseCategoricalCrossentropy\\noptimizer: adam\")\n",
        "model_comparison_table['preprocessing_methods'].append(\"remove mentions + switch numbers + delete punctuations + delete stope-words + delete spaces\")\n",
        "model_comparison_table['accuracy'].append(accuracy_DNN)"
      ]
    },
    {
      "cell_type": "code",
      "execution_count": 74,
      "id": "dc04dad0",
      "metadata": {},
      "outputs": [],
      "source": [
        "write_dic(model_comparison_table,\"model_comparison_table\")"
      ]
    },
    {
      "cell_type": "markdown",
      "id": "kztqizjhI9Ou",
      "metadata": {
        "id": "kztqizjhI9Ou"
      },
      "source": [
        "non"
      ]
    },
    {
      "cell_type": "markdown",
      "id": "oRrvmFgEHOmY",
      "metadata": {
        "id": "oRrvmFgEHOmY"
      },
      "source": [
        "## Print Table"
      ]
    },
    {
      "cell_type": "code",
      "execution_count": 77,
      "id": "a797d571",
      "metadata": {},
      "outputs": [
        {
          "data": {
            "text/html": [
              "<div>\n",
              "<style scoped>\n",
              "    .dataframe tbody tr th:only-of-type {\n",
              "        vertical-align: middle;\n",
              "    }\n",
              "\n",
              "    .dataframe tbody tr th {\n",
              "        vertical-align: top;\n",
              "    }\n",
              "\n",
              "    .dataframe thead th {\n",
              "        text-align: right;\n",
              "    }\n",
              "</style>\n",
              "<table border=\"1\" class=\"dataframe\">\n",
              "  <thead>\n",
              "    <tr style=\"text-align: right;\">\n",
              "      <th></th>\n",
              "      <th>question_step_number</th>\n",
              "      <th>model_name</th>\n",
              "      <th>parameters</th>\n",
              "      <th>preprocessing_methods</th>\n",
              "      <th>accuracy</th>\n",
              "    </tr>\n",
              "  </thead>\n",
              "  <tbody>\n",
              "    <tr>\n",
              "      <th>1</th>\n",
              "      <td>3</td>\n",
              "      <td>logistic regression with bag of words</td>\n",
              "      <td>solver: liblinear</td>\n",
              "      <td>remove mentions + switch numbers + delete punc...</td>\n",
              "      <td>0.808569</td>\n",
              "    </tr>\n",
              "    <tr>\n",
              "      <th>0</th>\n",
              "      <td>2</td>\n",
              "      <td>baseline logistic regression with bag of words</td>\n",
              "      <td>default</td>\n",
              "      <td>none</td>\n",
              "      <td>0.806791</td>\n",
              "    </tr>\n",
              "    <tr>\n",
              "      <th>3</th>\n",
              "      <td>5</td>\n",
              "      <td>DNN</td>\n",
              "      <td>Dense-&gt;10, Dense-&gt;5, Dense-&gt;2\\n loss:SparseCat...</td>\n",
              "      <td>remove mentions + switch numbers + delete punc...</td>\n",
              "      <td>0.798981</td>\n",
              "    </tr>\n",
              "    <tr>\n",
              "      <th>2</th>\n",
              "      <td>4</td>\n",
              "      <td>logistic regression with tf-idf</td>\n",
              "      <td>solver: liblinear, min_df=5, max_df=0.7, ngram...</td>\n",
              "      <td>remove mentions + switch numbers + delete punc...</td>\n",
              "      <td>0.743625</td>\n",
              "    </tr>\n",
              "  </tbody>\n",
              "</table>\n",
              "</div>"
            ],
            "text/plain": [
              "  question_step_number                                      model_name  \\\n",
              "1                    3           logistic regression with bag of words   \n",
              "0                    2  baseline logistic regression with bag of words   \n",
              "3                    5                                             DNN   \n",
              "2                    4                 logistic regression with tf-idf   \n",
              "\n",
              "                                          parameters  \\\n",
              "1                                  solver: liblinear   \n",
              "0                                            default   \n",
              "3  Dense->10, Dense->5, Dense->2\\n loss:SparseCat...   \n",
              "2  solver: liblinear, min_df=5, max_df=0.7, ngram...   \n",
              "\n",
              "                               preprocessing_methods  accuracy  \n",
              "1  remove mentions + switch numbers + delete punc...  0.808569  \n",
              "0                                               none  0.806791  \n",
              "3  remove mentions + switch numbers + delete punc...  0.798981  \n",
              "2  remove mentions + switch numbers + delete punc...  0.743625  "
            ]
          },
          "execution_count": 77,
          "metadata": {},
          "output_type": "execute_result"
        }
      ],
      "source": [
        "model_comparison_table = read_dic(\"model_comparison_table\")\n",
        "df = pd.DataFrame(model_comparison_table)\n",
        "df = df.sort_values(by = 'accuracy' , ascending = False)\n",
        "df.head()"
      ]
    },
    {
      "attachments": {},
      "cell_type": "markdown",
      "id": "a2ac9190",
      "metadata": {},
      "source": [
        "رح استخدم اول موديل مع عمليات التنظيف المناسبة "
      ]
    },
    {
      "cell_type": "markdown",
      "id": "cPd2f_LZKy6U",
      "metadata": {
        "id": "cPd2f_LZKy6U"
      },
      "source": [
        "# Question [6]: Train on all Classes"
      ]
    },
    {
      "cell_type": "code",
      "execution_count": 81,
      "id": "81e67bac",
      "metadata": {},
      "outputs": [],
      "source": [
        "train_data_61 = train_data.copy(deep = True)\n",
        "test_data_61 = test_data.copy(deep = True)\n",
        "\n",
        "waleed.preprocesse_df(train_data_3,'text',\n",
        "switch_numberss = True,\n",
        "delete_puns = True,\n",
        "delete_stop_wordss = True,\n",
        "delete_white_spaces = True)\n",
        "\n",
        "waleed.preprocesse_df(test_data_3,'text',\n",
        "switch_numberss = True,\n",
        "delete_puns = True,\n",
        "delete_stop_wordss = True,\n",
        "delete_white_spaces = True)\n",
        "\n",
        "train_data_61 = waleed.delete_nan_duplicates(train_data_61)\n",
        "test_data_61 = waleed.delete_nan_duplicates(test_data_61)"
      ]
    },
    {
      "cell_type": "code",
      "execution_count": 84,
      "id": "3b22f562",
      "metadata": {},
      "outputs": [
        {
          "name": "stdout",
          "output_type": "stream",
          "text": [
            "0.6795514901150782\n"
          ]
        }
      ],
      "source": [
        "accuracy61 = my_model_cv(train_data_61, test_data_61)\n",
        "print(accuracy61)"
      ]
    },
    {
      "cell_type": "code",
      "execution_count": 91,
      "id": "7644ab10",
      "metadata": {},
      "outputs": [],
      "source": [
        "model_comparison_table = read_dic(\"model_comparison_table\")"
      ]
    },
    {
      "cell_type": "code",
      "execution_count": 92,
      "id": "e17f73b6",
      "metadata": {},
      "outputs": [],
      "source": [
        "model_comparison_table['question_step_number'].append(\"6.1\")\n",
        "model_comparison_table['model_name'].append(\"LR with BOW(all classes)\")\n",
        "model_comparison_table['parameters'].append(\"solver: liblinear\")\n",
        "model_comparison_table['preprocessing_methods'].append(\"remove mentions + switch numbers + delete punctuations + delete stope-words + delete spaces\")\n",
        "model_comparison_table['accuracy'].append(accuracy61)"
      ]
    },
    {
      "cell_type": "code",
      "execution_count": 93,
      "id": "5d79d78e",
      "metadata": {},
      "outputs": [],
      "source": [
        "write_dic(model_comparison_table,\"model_comparison_table\")"
      ]
    },
    {
      "cell_type": "code",
      "execution_count": 98,
      "id": "c9ff1e5e",
      "metadata": {},
      "outputs": [
        {
          "data": {
            "text/html": [
              "<div>\n",
              "<style scoped>\n",
              "    .dataframe tbody tr th:only-of-type {\n",
              "        vertical-align: middle;\n",
              "    }\n",
              "\n",
              "    .dataframe tbody tr th {\n",
              "        vertical-align: top;\n",
              "    }\n",
              "\n",
              "    .dataframe thead th {\n",
              "        text-align: right;\n",
              "    }\n",
              "</style>\n",
              "<table border=\"1\" class=\"dataframe\">\n",
              "  <thead>\n",
              "    <tr style=\"text-align: right;\">\n",
              "      <th></th>\n",
              "      <th>question_step_number</th>\n",
              "      <th>model_name</th>\n",
              "      <th>parameters</th>\n",
              "      <th>preprocessing_methods</th>\n",
              "      <th>accuracy</th>\n",
              "    </tr>\n",
              "  </thead>\n",
              "  <tbody>\n",
              "    <tr>\n",
              "      <th>0</th>\n",
              "      <td>2</td>\n",
              "      <td>baseline logistic regression with bag of words</td>\n",
              "      <td>default</td>\n",
              "      <td>none</td>\n",
              "      <td>0.806791</td>\n",
              "    </tr>\n",
              "    <tr>\n",
              "      <th>1</th>\n",
              "      <td>3</td>\n",
              "      <td>logistic regression with bag of words</td>\n",
              "      <td>solver: liblinear</td>\n",
              "      <td>remove mentions + switch numbers + delete punc...</td>\n",
              "      <td>0.808569</td>\n",
              "    </tr>\n",
              "    <tr>\n",
              "      <th>2</th>\n",
              "      <td>4</td>\n",
              "      <td>logistic regression with tf-idf</td>\n",
              "      <td>solver: liblinear, min_df=5, max_df=0.7, ngram...</td>\n",
              "      <td>remove mentions + switch numbers + delete punc...</td>\n",
              "      <td>0.743625</td>\n",
              "    </tr>\n",
              "    <tr>\n",
              "      <th>3</th>\n",
              "      <td>5</td>\n",
              "      <td>DNN</td>\n",
              "      <td>Dense-&gt;10, Dense-&gt;5, Dense-&gt;2\\n loss:SparseCat...</td>\n",
              "      <td>remove mentions + switch numbers + delete punc...</td>\n",
              "      <td>0.798981</td>\n",
              "    </tr>\n",
              "    <tr>\n",
              "      <th>4</th>\n",
              "      <td>6.1</td>\n",
              "      <td>LR with BOW(all classes)</td>\n",
              "      <td>solver: liblinear</td>\n",
              "      <td>remove mentions + switch numbers + delete punc...</td>\n",
              "      <td>0.679551</td>\n",
              "    </tr>\n",
              "  </tbody>\n",
              "</table>\n",
              "</div>"
            ],
            "text/plain": [
              "  question_step_number                                      model_name  \\\n",
              "0                    2  baseline logistic regression with bag of words   \n",
              "1                    3           logistic regression with bag of words   \n",
              "2                    4                 logistic regression with tf-idf   \n",
              "3                    5                                             DNN   \n",
              "4                  6.1                        LR with BOW(all classes)   \n",
              "\n",
              "                                          parameters  \\\n",
              "0                                            default   \n",
              "1                                  solver: liblinear   \n",
              "2  solver: liblinear, min_df=5, max_df=0.7, ngram...   \n",
              "3  Dense->10, Dense->5, Dense->2\\n loss:SparseCat...   \n",
              "4                                  solver: liblinear   \n",
              "\n",
              "                               preprocessing_methods  accuracy  \n",
              "0                                               none  0.806791  \n",
              "1  remove mentions + switch numbers + delete punc...  0.808569  \n",
              "2  remove mentions + switch numbers + delete punc...  0.743625  \n",
              "3  remove mentions + switch numbers + delete punc...  0.798981  \n",
              "4  remove mentions + switch numbers + delete punc...  0.679551  "
            ]
          },
          "execution_count": 98,
          "metadata": {},
          "output_type": "execute_result"
        }
      ],
      "source": [
        "df = pd.DataFrame(read_dic('model_comparison_table'))\n",
        "df"
      ]
    },
    {
      "cell_type": "code",
      "execution_count": 99,
      "id": "16213ca2",
      "metadata": {},
      "outputs": [],
      "source": [
        "df.to_csv(\"[محمد_وليد_الطرزي].csv\", index=False)"
      ]
    },
    {
      "attachments": {},
      "cell_type": "markdown",
      "id": "838f8fa5",
      "metadata": {},
      "source": [
        "dealing with raSampling<br>\n",
        "ماكملت الشغل منشان ما أتأخر اكتر"
      ]
    },
    {
      "cell_type": "code",
      "execution_count": 36,
      "id": "b5e5a313",
      "metadata": {},
      "outputs": [
        {
          "name": "stdout",
          "output_type": "stream",
          "text": [
            "Class 0: 3496\n",
            "Class 1: 5417\n",
            "Class 2: 11484\n",
            "Class 3: 5656\n"
          ]
        },
        {
          "data": {
            "text/plain": [
              "<AxesSubplot:title={'center':'Count (target)'}>"
            ]
          },
          "execution_count": 36,
          "metadata": {},
          "output_type": "execute_result"
        },
        {
          "data": {
            "image/png": "[encoded data removed]",
            "text/plain": [
              "<Figure size 640x480 with 1 Axes>"
            ]
          },
          "metadata": {},
          "output_type": "display_data"
        }
      ],
      "source": [
        "label_count = train_data.label_val.value_counts()\n",
        "print('Class 0:', label_count[0])\n",
        "print('Class 1:', label_count[1])\n",
        "print('Class 2:', label_count[2])\n",
        "print('Class 3:', label_count[3])\n",
        "\n",
        "label_count.plot(kind='bar', title='Count (target)')"
      ]
    },
    {
      "cell_type": "code",
      "execution_count": 33,
      "id": "c6931022",
      "metadata": {},
      "outputs": [],
      "source": [
        "x_train_6,y_train_6 = x_y_split(train_data,'text','label_val')"
      ]
    },
    {
      "cell_type": "code",
      "execution_count": 95,
      "id": "a3ed5d82",
      "metadata": {},
      "outputs": [],
      "source": [
        "count_class_0, count_class_1,count_class_2,count_class_3 = train_data.label_val.value_counts()\n",
        "\n",
        "# Divide by class\n",
        "df_class_0 = train_data[train_data['label_val'] == 0]\n",
        "df_class_1 = train_data[train_data['label_val'] == 1]\n",
        "df_class_2 = train_data[train_data['label_val'] == 2]\n",
        "df_class_3 = train_data[train_data['label_val'] == 3]"
      ]
    },
    {
      "cell_type": "markdown",
      "id": "XMcsisekLAbf",
      "metadata": {
        "id": "XMcsisekLAbf"
      },
      "source": [
        "## [6.2] \n"
      ]
    },
    {
      "cell_type": "code",
      "execution_count": null,
      "id": "7fj5im0rLAbh",
      "metadata": {
        "id": "7fj5im0rLAbh"
      },
      "outputs": [],
      "source": []
    },
    {
      "attachments": {},
      "cell_type": "markdown",
      "id": "4ac0a281",
      "metadata": {},
      "source": [
        "## Resmapling"
      ]
    },
    {
      "cell_type": "code",
      "execution_count": null,
      "id": "01d36716",
      "metadata": {},
      "outputs": [],
      "source": []
    }
  ],
  "metadata": {
    "colab": {
      "collapsed_sections": [
        "GY-HhD2YRNZe",
        "3fM_FPldSCxp",
        "N2z1KmQXSAFs",
        "fCBHc2y6SAL5",
        "P1aLjPbzRNZe",
        "dbqN7BceSRhS",
        "rad8wPeSSRhU",
        "FbIUIkezSRhU",
        "N4WDktTgRNZf",
        "wbGPWNtoR4p-",
        "V-rCzzoMR41T",
        "iXF2L4Z-Sd3N",
        "ij5gdJA4Sd3O",
        "H6k8JnJDSd3P",
        "1TmDb343Sls9",
        "0V5LD9EWVgY7",
        "vc96CuQStFA9"
      ],
      "provenance": []
    },
    "kernelspec": {
      "display_name": "base",
      "language": "python",
      "name": "python3"
    },
    "language_info": {
      "codemirror_mode": {
        "name": "ipython",
        "version": 3
      },
      "file_extension": ".py",
      "mimetype": "text/x-python",
      "name": "python",
      "nbconvert_exporter": "python",
      "pygments_lexer": "ipython3",
      "version": "3.9.13"
    },
    "vscode": {
      "interpreter": {
        "hash": "f944705f064e68791190f4b1fe538986b5ceff64e1da9d2f83c5f90d017b2289"
      }
    }
  },
  "nbformat": 4,
  "nbformat_minor": 5
}
